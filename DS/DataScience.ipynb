{
  "nbformat": 4,
  "nbformat_minor": 0,
  "metadata": {
    "colab": {
      "name": "DataScience.ipynb",
      "provenance": [],
      "collapsed_sections": []
    },
    "kernelspec": {
      "name": "python3",
      "display_name": "Python 3"
    },
    "language_info": {
      "name": "python"
    }
  },
  "cells": [
    {
      "cell_type": "code",
      "metadata": {
        "id": "TS_12Me8G31X",
        "colab": {
          "base_uri": "https://localhost:8080/",
          "height": 0
        },
        "outputId": "ba92773f-b1a0-4c0d-e457-552e7ef7cb0e"
      },
      "source": [
        "from google.colab import drive\n",
        "drive.mount('/content/drive/')"
      ],
      "execution_count": 1,
      "outputs": [
        {
          "output_type": "stream",
          "text": [
            "Mounted at /content/drive/\n"
          ],
          "name": "stdout"
        }
      ]
    },
    {
      "cell_type": "code",
      "metadata": {
        "id": "emmw1mesHRIQ"
      },
      "source": [
        "import pandas as pd\n",
        "match=pd.read_csv(\"/content/drive/MyDrive/DataScience/Match.csv\")"
      ],
      "execution_count": 2,
      "outputs": []
    },
    {
      "cell_type": "code",
      "metadata": {
        "id": "MFWKnfuZHr6j"
      },
      "source": [
        "PP=pd.read_csv(\"/content/drive/MyDrive/DataScience/Player_performance.csv\")"
      ],
      "execution_count": 3,
      "outputs": []
    },
    {
      "cell_type": "code",
      "metadata": {
        "colab": {
          "base_uri": "https://localhost:8080/",
          "height": 425
        },
        "id": "prMiKeypNiAM",
        "outputId": "a129d4eb-1dde-4f68-a8e0-afb0e270b8c3"
      },
      "source": [
        "match.head()"
      ],
      "execution_count": 4,
      "outputs": [
        {
          "output_type": "execute_result",
          "data": {
            "text/html": [
              "<div>\n",
              "<style scoped>\n",
              "    .dataframe tbody tr th:only-of-type {\n",
              "        vertical-align: middle;\n",
              "    }\n",
              "\n",
              "    .dataframe tbody tr th {\n",
              "        vertical-align: top;\n",
              "    }\n",
              "\n",
              "    .dataframe thead th {\n",
              "        text-align: right;\n",
              "    }\n",
              "</style>\n",
              "<table border=\"1\" class=\"dataframe\">\n",
              "  <thead>\n",
              "    <tr style=\"text-align: right;\">\n",
              "      <th></th>\n",
              "      <th>Match_id</th>\n",
              "      <th>Team1</th>\n",
              "      <th>Team2</th>\n",
              "      <th>Gender</th>\n",
              "      <th>Date</th>\n",
              "      <th>Season</th>\n",
              "      <th>Series/Competition</th>\n",
              "      <th>Match_number</th>\n",
              "      <th>Venue</th>\n",
              "      <th>City</th>\n",
              "      <th>Neutral_venue</th>\n",
              "      <th>Toss_winner</th>\n",
              "      <th>Toss_decision</th>\n",
              "      <th>Player_of_match</th>\n",
              "      <th>Umpire1</th>\n",
              "      <th>Umpire2</th>\n",
              "      <th>Reserve_umpire</th>\n",
              "      <th>Tv_umpire</th>\n",
              "      <th>Match_referee</th>\n",
              "      <th>Winner</th>\n",
              "      <th>Winner_runs</th>\n",
              "      <th>Winner_wickets</th>\n",
              "      <th>Method</th>\n",
              "      <th>Outcome</th>\n",
              "    </tr>\n",
              "  </thead>\n",
              "  <tbody>\n",
              "    <tr>\n",
              "      <th>0</th>\n",
              "      <td>1000887</td>\n",
              "      <td>Australia</td>\n",
              "      <td>Pakistan</td>\n",
              "      <td>male</td>\n",
              "      <td>13-01-2017</td>\n",
              "      <td>2016</td>\n",
              "      <td>Pakistan in Australia ODI Series</td>\n",
              "      <td>1.0</td>\n",
              "      <td>\"Brisbane Cricket Ground</td>\n",
              "      <td>Brisbane</td>\n",
              "      <td>NaN</td>\n",
              "      <td>Australia</td>\n",
              "      <td>bat</td>\n",
              "      <td>MS Wade</td>\n",
              "      <td>MD Martell</td>\n",
              "      <td>C Shamshuddin</td>\n",
              "      <td>SJ Nogajski</td>\n",
              "      <td>CB Gaffaney</td>\n",
              "      <td>JJ Crowe</td>\n",
              "      <td>Australia</td>\n",
              "      <td>92.0</td>\n",
              "      <td>NaN</td>\n",
              "      <td>NaN</td>\n",
              "      <td>NaN</td>\n",
              "    </tr>\n",
              "    <tr>\n",
              "      <th>1</th>\n",
              "      <td>1000889</td>\n",
              "      <td>Australia</td>\n",
              "      <td>Pakistan</td>\n",
              "      <td>male</td>\n",
              "      <td>15-01-2017</td>\n",
              "      <td>2016</td>\n",
              "      <td>Pakistan in Australia ODI Series</td>\n",
              "      <td>2.0</td>\n",
              "      <td>Melbourne Cricket Ground</td>\n",
              "      <td>NaN</td>\n",
              "      <td>NaN</td>\n",
              "      <td>Australia</td>\n",
              "      <td>bat</td>\n",
              "      <td>Mohammad Hafeez</td>\n",
              "      <td>CB Gaffaney</td>\n",
              "      <td>P Wilson</td>\n",
              "      <td>SJ Nogajski</td>\n",
              "      <td>C Shamshuddin</td>\n",
              "      <td>JJ Crowe</td>\n",
              "      <td>Pakistan</td>\n",
              "      <td>NaN</td>\n",
              "      <td>6.0</td>\n",
              "      <td>NaN</td>\n",
              "      <td>NaN</td>\n",
              "    </tr>\n",
              "    <tr>\n",
              "      <th>2</th>\n",
              "      <td>1000891</td>\n",
              "      <td>Australia</td>\n",
              "      <td>Pakistan</td>\n",
              "      <td>male</td>\n",
              "      <td>19-01-2017</td>\n",
              "      <td>2016</td>\n",
              "      <td>Pakistan in Australia ODI Series</td>\n",
              "      <td>3.0</td>\n",
              "      <td>Western Australia Cricket Association Ground</td>\n",
              "      <td>Perth</td>\n",
              "      <td>NaN</td>\n",
              "      <td>Australia</td>\n",
              "      <td>field</td>\n",
              "      <td>SPD Smith</td>\n",
              "      <td>SD Fry</td>\n",
              "      <td>C Shamshuddin</td>\n",
              "      <td>P Wilson</td>\n",
              "      <td>CB Gaffaney</td>\n",
              "      <td>JJ Crowe</td>\n",
              "      <td>Australia</td>\n",
              "      <td>NaN</td>\n",
              "      <td>7.0</td>\n",
              "      <td>NaN</td>\n",
              "      <td>NaN</td>\n",
              "    </tr>\n",
              "    <tr>\n",
              "      <th>3</th>\n",
              "      <td>1000893</td>\n",
              "      <td>Australia</td>\n",
              "      <td>Pakistan</td>\n",
              "      <td>male</td>\n",
              "      <td>22-01-2017</td>\n",
              "      <td>2016</td>\n",
              "      <td>Pakistan in Australia ODI Series</td>\n",
              "      <td>4.0</td>\n",
              "      <td>Sydney Cricket Ground</td>\n",
              "      <td>NaN</td>\n",
              "      <td>NaN</td>\n",
              "      <td>Australia</td>\n",
              "      <td>bat</td>\n",
              "      <td>DA Warner</td>\n",
              "      <td>CB Gaffaney</td>\n",
              "      <td>MD Martell</td>\n",
              "      <td>P Wilson</td>\n",
              "      <td>C Shamshuddin</td>\n",
              "      <td>JJ Crowe</td>\n",
              "      <td>Australia</td>\n",
              "      <td>86.0</td>\n",
              "      <td>NaN</td>\n",
              "      <td>NaN</td>\n",
              "      <td>NaN</td>\n",
              "    </tr>\n",
              "    <tr>\n",
              "      <th>4</th>\n",
              "      <td>1000895</td>\n",
              "      <td>Australia</td>\n",
              "      <td>Pakistan</td>\n",
              "      <td>male</td>\n",
              "      <td>26-01-2017</td>\n",
              "      <td>2016</td>\n",
              "      <td>Pakistan in Australia ODI Series</td>\n",
              "      <td>5.0</td>\n",
              "      <td>Adelaide Oval</td>\n",
              "      <td>NaN</td>\n",
              "      <td>NaN</td>\n",
              "      <td>Australia</td>\n",
              "      <td>bat</td>\n",
              "      <td>DA Warner</td>\n",
              "      <td>SD Fry</td>\n",
              "      <td>C Shamshuddin</td>\n",
              "      <td>SJ Nogajski</td>\n",
              "      <td>CB Gaffaney</td>\n",
              "      <td>JJ Crowe</td>\n",
              "      <td>Australia</td>\n",
              "      <td>57.0</td>\n",
              "      <td>NaN</td>\n",
              "      <td>NaN</td>\n",
              "      <td>NaN</td>\n",
              "    </tr>\n",
              "  </tbody>\n",
              "</table>\n",
              "</div>"
            ],
            "text/plain": [
              "   Match_id      Team1     Team2  ... Winner_wickets Method  Outcome\n",
              "0   1000887  Australia  Pakistan  ...            NaN    NaN      NaN\n",
              "1   1000889  Australia  Pakistan  ...            6.0    NaN      NaN\n",
              "2   1000891  Australia  Pakistan  ...            7.0    NaN      NaN\n",
              "3   1000893  Australia  Pakistan  ...            NaN    NaN      NaN\n",
              "4   1000895  Australia  Pakistan  ...            NaN    NaN      NaN\n",
              "\n",
              "[5 rows x 24 columns]"
            ]
          },
          "metadata": {
            "tags": []
          },
          "execution_count": 4
        }
      ]
    },
    {
      "cell_type": "markdown",
      "metadata": {
        "id": "w09thf6w7DJk"
      },
      "source": [
        "## **DATA PREPROCESSING**"
      ]
    },
    {
      "cell_type": "markdown",
      "metadata": {
        "id": "2KmwrkdHjPAv"
      },
      "source": [
        "Dropping unnecessary columns which wont affect the player prediction and Renaming some columns for ease."
      ]
    },
    {
      "cell_type": "code",
      "metadata": {
        "id": "hIp5JQoGW8lX"
      },
      "source": [
        "match.drop(['Umpire1','Umpire2','Reserve_umpire','Tv_umpire','Match_referee','Gender','City','Neutral_venue','Method','Outcome','Match_number','Winner_runs','Winner_wickets'],axis=1,inplace=True)\n",
        "match.rename(columns = {'Series/Competition':'Series'}, inplace = True)\n"
      ],
      "execution_count": 5,
      "outputs": []
    },
    {
      "cell_type": "code",
      "metadata": {
        "colab": {
          "base_uri": "https://localhost:8080/",
          "height": 203
        },
        "id": "FJpckPCKjqjx",
        "outputId": "9e4fd479-4888-4815-eaeb-496bf10a45ae"
      },
      "source": [
        "match.head()"
      ],
      "execution_count": 6,
      "outputs": [
        {
          "output_type": "execute_result",
          "data": {
            "text/html": [
              "<div>\n",
              "<style scoped>\n",
              "    .dataframe tbody tr th:only-of-type {\n",
              "        vertical-align: middle;\n",
              "    }\n",
              "\n",
              "    .dataframe tbody tr th {\n",
              "        vertical-align: top;\n",
              "    }\n",
              "\n",
              "    .dataframe thead th {\n",
              "        text-align: right;\n",
              "    }\n",
              "</style>\n",
              "<table border=\"1\" class=\"dataframe\">\n",
              "  <thead>\n",
              "    <tr style=\"text-align: right;\">\n",
              "      <th></th>\n",
              "      <th>Match_id</th>\n",
              "      <th>Team1</th>\n",
              "      <th>Team2</th>\n",
              "      <th>Date</th>\n",
              "      <th>Season</th>\n",
              "      <th>Series</th>\n",
              "      <th>Venue</th>\n",
              "      <th>Toss_winner</th>\n",
              "      <th>Toss_decision</th>\n",
              "      <th>Player_of_match</th>\n",
              "      <th>Winner</th>\n",
              "    </tr>\n",
              "  </thead>\n",
              "  <tbody>\n",
              "    <tr>\n",
              "      <th>0</th>\n",
              "      <td>1000887</td>\n",
              "      <td>Australia</td>\n",
              "      <td>Pakistan</td>\n",
              "      <td>13-01-2017</td>\n",
              "      <td>2016</td>\n",
              "      <td>Pakistan in Australia ODI Series</td>\n",
              "      <td>\"Brisbane Cricket Ground</td>\n",
              "      <td>Australia</td>\n",
              "      <td>bat</td>\n",
              "      <td>MS Wade</td>\n",
              "      <td>Australia</td>\n",
              "    </tr>\n",
              "    <tr>\n",
              "      <th>1</th>\n",
              "      <td>1000889</td>\n",
              "      <td>Australia</td>\n",
              "      <td>Pakistan</td>\n",
              "      <td>15-01-2017</td>\n",
              "      <td>2016</td>\n",
              "      <td>Pakistan in Australia ODI Series</td>\n",
              "      <td>Melbourne Cricket Ground</td>\n",
              "      <td>Australia</td>\n",
              "      <td>bat</td>\n",
              "      <td>Mohammad Hafeez</td>\n",
              "      <td>Pakistan</td>\n",
              "    </tr>\n",
              "    <tr>\n",
              "      <th>2</th>\n",
              "      <td>1000891</td>\n",
              "      <td>Australia</td>\n",
              "      <td>Pakistan</td>\n",
              "      <td>19-01-2017</td>\n",
              "      <td>2016</td>\n",
              "      <td>Pakistan in Australia ODI Series</td>\n",
              "      <td>Western Australia Cricket Association Ground</td>\n",
              "      <td>Australia</td>\n",
              "      <td>field</td>\n",
              "      <td>SPD Smith</td>\n",
              "      <td>Australia</td>\n",
              "    </tr>\n",
              "    <tr>\n",
              "      <th>3</th>\n",
              "      <td>1000893</td>\n",
              "      <td>Australia</td>\n",
              "      <td>Pakistan</td>\n",
              "      <td>22-01-2017</td>\n",
              "      <td>2016</td>\n",
              "      <td>Pakistan in Australia ODI Series</td>\n",
              "      <td>Sydney Cricket Ground</td>\n",
              "      <td>Australia</td>\n",
              "      <td>bat</td>\n",
              "      <td>DA Warner</td>\n",
              "      <td>Australia</td>\n",
              "    </tr>\n",
              "    <tr>\n",
              "      <th>4</th>\n",
              "      <td>1000895</td>\n",
              "      <td>Australia</td>\n",
              "      <td>Pakistan</td>\n",
              "      <td>26-01-2017</td>\n",
              "      <td>2016</td>\n",
              "      <td>Pakistan in Australia ODI Series</td>\n",
              "      <td>Adelaide Oval</td>\n",
              "      <td>Australia</td>\n",
              "      <td>bat</td>\n",
              "      <td>DA Warner</td>\n",
              "      <td>Australia</td>\n",
              "    </tr>\n",
              "  </tbody>\n",
              "</table>\n",
              "</div>"
            ],
            "text/plain": [
              "   Match_id      Team1     Team2  ... Toss_decision  Player_of_match     Winner\n",
              "0   1000887  Australia  Pakistan  ...           bat          MS Wade  Australia\n",
              "1   1000889  Australia  Pakistan  ...           bat  Mohammad Hafeez   Pakistan\n",
              "2   1000891  Australia  Pakistan  ...         field        SPD Smith  Australia\n",
              "3   1000893  Australia  Pakistan  ...           bat        DA Warner  Australia\n",
              "4   1000895  Australia  Pakistan  ...           bat        DA Warner  Australia\n",
              "\n",
              "[5 rows x 11 columns]"
            ]
          },
          "metadata": {
            "tags": []
          },
          "execution_count": 6
        }
      ]
    },
    {
      "cell_type": "code",
      "metadata": {
        "colab": {
          "base_uri": "https://localhost:8080/",
          "height": 0
        },
        "id": "NSMLajWfIfze",
        "outputId": "3e9faa8f-7493-4e01-c076-309631d1f887"
      },
      "source": [
        "match.shape"
      ],
      "execution_count": 7,
      "outputs": [
        {
          "output_type": "execute_result",
          "data": {
            "text/plain": [
              "(1951, 11)"
            ]
          },
          "metadata": {
            "tags": []
          },
          "execution_count": 7
        }
      ]
    },
    {
      "cell_type": "code",
      "metadata": {
        "colab": {
          "base_uri": "https://localhost:8080/",
          "height": 0
        },
        "id": "DbvZNaBHN8Fj",
        "outputId": "eb0b4300-4aaa-4d27-a29f-a64ea21a71e0"
      },
      "source": [
        "match.isnull().sum().sort_values()"
      ],
      "execution_count": 8,
      "outputs": [
        {
          "output_type": "execute_result",
          "data": {
            "text/plain": [
              "Match_id             0\n",
              "Team1                0\n",
              "Team2                0\n",
              "Date                 0\n",
              "Season               0\n",
              "Series               0\n",
              "Venue                0\n",
              "Toss_winner          0\n",
              "Toss_decision        0\n",
              "Winner              69\n",
              "Player_of_match    142\n",
              "dtype: int64"
            ]
          },
          "metadata": {
            "tags": []
          },
          "execution_count": 8
        }
      ]
    },
    {
      "cell_type": "markdown",
      "metadata": {
        "id": "-GgwXd_dReeR"
      },
      "source": [
        "### HANDLING MISSING VALUES IN **WINNER** COLOUMN"
      ]
    },
    {
      "cell_type": "code",
      "metadata": {
        "id": "Zb39ZX2ROpQI"
      },
      "source": [
        "match['Winner'] = match['Winner'].fillna(\"Draw\")"
      ],
      "execution_count": 9,
      "outputs": []
    },
    {
      "cell_type": "code",
      "metadata": {
        "colab": {
          "base_uri": "https://localhost:8080/",
          "height": 0
        },
        "id": "9PUHNNSURZrQ",
        "outputId": "1cb016a8-5b7f-4d79-acc3-d04ea242c11d"
      },
      "source": [
        "match.isnull().sum().sort_values(ascending = False)"
      ],
      "execution_count": 10,
      "outputs": [
        {
          "output_type": "execute_result",
          "data": {
            "text/plain": [
              "Player_of_match    142\n",
              "Winner               0\n",
              "Toss_decision        0\n",
              "Toss_winner          0\n",
              "Venue                0\n",
              "Series               0\n",
              "Season               0\n",
              "Date                 0\n",
              "Team2                0\n",
              "Team1                0\n",
              "Match_id             0\n",
              "dtype: int64"
            ]
          },
          "metadata": {
            "tags": []
          },
          "execution_count": 10
        }
      ]
    },
    {
      "cell_type": "markdown",
      "metadata": {
        "id": "DjLb5ibBkIOi"
      },
      "source": [
        "All the null values in Winner column is now filled with Draw. 'Draw' is chosen as putting any random team which is not in the series can cause ambiguity in tha data."
      ]
    },
    {
      "cell_type": "markdown",
      "metadata": {
        "id": "UASPhiXTSH0k"
      },
      "source": [
        "### HANDLING MISSING VALUES IN **Player_of_match** COLOUMN"
      ]
    },
    {
      "cell_type": "code",
      "metadata": {
        "colab": {
          "base_uri": "https://localhost:8080/",
          "height": 0
        },
        "id": "BgoTHhqqRpUM",
        "outputId": "b61792f3-388c-463a-bc5c-2bef64e1f5ad"
      },
      "source": [
        "match['Player_of_match'].value_counts()"
      ],
      "execution_count": 11,
      "outputs": [
        {
          "output_type": "execute_result",
          "data": {
            "text/plain": [
              "AB de Villiers    29\n",
              "V Kohli           26\n",
              "MS Dhoni          25\n",
              "TM Dilshan        24\n",
              "DA Warner         20\n",
              "                  ..\n",
              "JM Davison         1\n",
              "PP Ojha            1\n",
              "SIP Fernando       1\n",
              "MR Pedersen        1\n",
              "WPUJC Vaas         1\n",
              "Name: Player_of_match, Length: 619, dtype: int64"
            ]
          },
          "metadata": {
            "tags": []
          },
          "execution_count": 11
        }
      ]
    },
    {
      "cell_type": "code",
      "metadata": {
        "id": "6EzZHZkOR6Sf"
      },
      "source": [
        "match['Player_of_match'] = match['Player_of_match'].fillna(\"AB de Villiers\")"
      ],
      "execution_count": 12,
      "outputs": []
    },
    {
      "cell_type": "code",
      "metadata": {
        "colab": {
          "base_uri": "https://localhost:8080/",
          "height": 0
        },
        "id": "KAICK54_SDxN",
        "outputId": "dc73b303-0354-4a86-ba80-85eb1563d4ee"
      },
      "source": [
        "match.isnull().sum().sort_values(ascending = False)"
      ],
      "execution_count": 13,
      "outputs": [
        {
          "output_type": "execute_result",
          "data": {
            "text/plain": [
              "Winner             0\n",
              "Player_of_match    0\n",
              "Toss_decision      0\n",
              "Toss_winner        0\n",
              "Venue              0\n",
              "Series             0\n",
              "Season             0\n",
              "Date               0\n",
              "Team2              0\n",
              "Team1              0\n",
              "Match_id           0\n",
              "dtype: int64"
            ]
          },
          "metadata": {
            "tags": []
          },
          "execution_count": 13
        }
      ]
    },
    {
      "cell_type": "code",
      "metadata": {
        "colab": {
          "base_uri": "https://localhost:8080/",
          "height": 0
        },
        "id": "6OPIHGiwnu7Y",
        "outputId": "3f02e1a1-8ac0-4585-824a-90ebc3e65d61"
      },
      "source": [
        "match.shape"
      ],
      "execution_count": 14,
      "outputs": [
        {
          "output_type": "execute_result",
          "data": {
            "text/plain": [
              "(1951, 11)"
            ]
          },
          "metadata": {
            "tags": []
          },
          "execution_count": 14
        }
      ]
    },
    {
      "cell_type": "markdown",
      "metadata": {
        "id": "wNbJK3rqniRK"
      },
      "source": [
        "All the null values have been removed from the Match Dataframe."
      ]
    },
    {
      "cell_type": "code",
      "metadata": {
        "colab": {
          "base_uri": "https://localhost:8080/",
          "height": 0
        },
        "id": "_Q6SQJSKPvbM",
        "outputId": "c5816ff2-7656-4100-810a-f277a67a2782"
      },
      "source": [
        "PP.shape"
      ],
      "execution_count": 15,
      "outputs": [
        {
          "output_type": "execute_result",
          "data": {
            "text/plain": [
              "(1905, 441)"
            ]
          },
          "metadata": {
            "tags": []
          },
          "execution_count": 15
        }
      ]
    },
    {
      "cell_type": "code",
      "metadata": {
        "id": "cwArrEHgomm0",
        "colab": {
          "base_uri": "https://localhost:8080/",
          "height": 203
        },
        "outputId": "cc5fec87-f8d6-43fe-983e-2e151bc02913"
      },
      "source": [
        "Player = PP[['Matchid','Players_1','Players_2','Players_3','Players_4','Players_5','Players_6','Players_7','Players_8','Players_9','Players_10','Players_12']].copy()\n",
        "Player.head()"
      ],
      "execution_count": 16,
      "outputs": [
        {
          "output_type": "execute_result",
          "data": {
            "text/html": [
              "<div>\n",
              "<style scoped>\n",
              "    .dataframe tbody tr th:only-of-type {\n",
              "        vertical-align: middle;\n",
              "    }\n",
              "\n",
              "    .dataframe tbody tr th {\n",
              "        vertical-align: top;\n",
              "    }\n",
              "\n",
              "    .dataframe thead th {\n",
              "        text-align: right;\n",
              "    }\n",
              "</style>\n",
              "<table border=\"1\" class=\"dataframe\">\n",
              "  <thead>\n",
              "    <tr style=\"text-align: right;\">\n",
              "      <th></th>\n",
              "      <th>Matchid</th>\n",
              "      <th>Players_1</th>\n",
              "      <th>Players_2</th>\n",
              "      <th>Players_3</th>\n",
              "      <th>Players_4</th>\n",
              "      <th>Players_5</th>\n",
              "      <th>Players_6</th>\n",
              "      <th>Players_7</th>\n",
              "      <th>Players_8</th>\n",
              "      <th>Players_9</th>\n",
              "      <th>Players_10</th>\n",
              "      <th>Players_12</th>\n",
              "    </tr>\n",
              "  </thead>\n",
              "  <tbody>\n",
              "    <tr>\n",
              "      <th>0</th>\n",
              "      <td>225245</td>\n",
              "      <td>G Malla</td>\n",
              "      <td>AK Mandal</td>\n",
              "      <td>S Vesawkar</td>\n",
              "      <td>P Khadka</td>\n",
              "      <td>Sagar Pun</td>\n",
              "      <td>R Rijal</td>\n",
              "      <td>B Bhandari</td>\n",
              "      <td>Sompal Kami</td>\n",
              "      <td>B Regmi</td>\n",
              "      <td>Karan KC</td>\n",
              "      <td>SJ Myburgh</td>\n",
              "    </tr>\n",
              "    <tr>\n",
              "      <th>1</th>\n",
              "      <td>225246</td>\n",
              "      <td>C Carter</td>\n",
              "      <td>KD Shah</td>\n",
              "      <td>Babar Hayat</td>\n",
              "      <td>Nizakat Khan</td>\n",
              "      <td>Anshuman Rath</td>\n",
              "      <td>Tanwir Afzal</td>\n",
              "      <td>Nadeem Ahmed</td>\n",
              "      <td>Aizaz Khan</td>\n",
              "      <td>Ehsan Khan</td>\n",
              "      <td>Tanveer Ahmed</td>\n",
              "      <td>IA Karim</td>\n",
              "    </tr>\n",
              "    <tr>\n",
              "      <th>2</th>\n",
              "      <td>225247</td>\n",
              "      <td>KJ Coetzer</td>\n",
              "      <td>CD Wallace</td>\n",
              "      <td>CS MacLeod</td>\n",
              "      <td>MH Cross</td>\n",
              "      <td>RD Berrington</td>\n",
              "      <td>PL Mommsen</td>\n",
              "      <td>CD de Lange</td>\n",
              "      <td>SM Sharif</td>\n",
              "      <td>CB Sole</td>\n",
              "      <td>AC Evans</td>\n",
              "      <td>Nizakat Khan</td>\n",
              "    </tr>\n",
              "    <tr>\n",
              "      <th>3</th>\n",
              "      <td>225248</td>\n",
              "      <td>KJ Coetzer</td>\n",
              "      <td>MH Cross</td>\n",
              "      <td>CS MacLeod</td>\n",
              "      <td>MA Leask</td>\n",
              "      <td>RD Berrington</td>\n",
              "      <td>CD de Lange</td>\n",
              "      <td>CD Wallace</td>\n",
              "      <td>SM Sharif</td>\n",
              "      <td>MRJ Watt</td>\n",
              "      <td>AC Evans</td>\n",
              "      <td>C Carter</td>\n",
              "    </tr>\n",
              "    <tr>\n",
              "      <th>4</th>\n",
              "      <td>225249</td>\n",
              "      <td>PJ Moor</td>\n",
              "      <td>CJ Chibhabha</td>\n",
              "      <td>H Masakadza</td>\n",
              "      <td>CR Ervine</td>\n",
              "      <td>V Sibanda</td>\n",
              "      <td>Sikandar Raza</td>\n",
              "      <td>E Chigumbura</td>\n",
              "      <td>R Mutumbami</td>\n",
              "      <td>AG Cremer</td>\n",
              "      <td>TL Chatara</td>\n",
              "      <td>KL Rahul</td>\n",
              "    </tr>\n",
              "  </tbody>\n",
              "</table>\n",
              "</div>"
            ],
            "text/plain": [
              "   Matchid   Players_1     Players_2  ...   Players_9     Players_10    Players_12\n",
              "0   225245     G Malla     AK Mandal  ...     B Regmi       Karan KC    SJ Myburgh\n",
              "1   225246    C Carter       KD Shah  ...  Ehsan Khan  Tanveer Ahmed      IA Karim\n",
              "2   225247  KJ Coetzer    CD Wallace  ...     CB Sole       AC Evans  Nizakat Khan\n",
              "3   225248  KJ Coetzer      MH Cross  ...    MRJ Watt       AC Evans      C Carter\n",
              "4   225249     PJ Moor  CJ Chibhabha  ...   AG Cremer     TL Chatara      KL Rahul\n",
              "\n",
              "[5 rows x 12 columns]"
            ]
          },
          "metadata": {
            "tags": []
          },
          "execution_count": 16
        }
      ]
    },
    {
      "cell_type": "code",
      "metadata": {
        "colab": {
          "base_uri": "https://localhost:8080/",
          "height": 0
        },
        "id": "1CbyMiQVpK7y",
        "outputId": "1cb80218-8985-446e-d8ff-ad69d4096a64"
      },
      "source": [
        "Player.isnull().sum()"
      ],
      "execution_count": 17,
      "outputs": [
        {
          "output_type": "execute_result",
          "data": {
            "text/plain": [
              "Matchid       0\n",
              "Players_1     0\n",
              "Players_2     0\n",
              "Players_3     0\n",
              "Players_4     0\n",
              "Players_5     0\n",
              "Players_6     0\n",
              "Players_7     0\n",
              "Players_8     0\n",
              "Players_9     0\n",
              "Players_10    0\n",
              "Players_12    0\n",
              "dtype: int64"
            ]
          },
          "metadata": {
            "tags": []
          },
          "execution_count": 17
        }
      ]
    },
    {
      "cell_type": "code",
      "metadata": {
        "colab": {
          "base_uri": "https://localhost:8080/",
          "height": 0
        },
        "id": "vmV-zXwJDvQv",
        "outputId": "b2a2b6a9-abd1-4009-db0d-dbf27db4e638"
      },
      "source": [
        "Player.shape"
      ],
      "execution_count": 18,
      "outputs": [
        {
          "output_type": "execute_result",
          "data": {
            "text/plain": [
              "(1905, 12)"
            ]
          },
          "metadata": {
            "tags": []
          },
          "execution_count": 18
        }
      ]
    },
    {
      "cell_type": "markdown",
      "metadata": {
        "id": "CfbwP5WF9_FT"
      },
      "source": [
        "## Merging both dataframes to produce final dataset"
      ]
    },
    {
      "cell_type": "code",
      "metadata": {
        "id": "0STTsO5DeoJY",
        "colab": {
          "base_uri": "https://localhost:8080/",
          "height": 458
        },
        "outputId": "959d584b-7899-40ac-c188-162265ecc3ce"
      },
      "source": [
        "match.rename(columns = {'Match_id':'Matchid'}, inplace = True)\n",
        "match_merged = match.merge(Player,on='Matchid', how = 'inner').dropna()\n",
        "match_merged.head()"
      ],
      "execution_count": 19,
      "outputs": [
        {
          "output_type": "execute_result",
          "data": {
            "text/html": [
              "<div>\n",
              "<style scoped>\n",
              "    .dataframe tbody tr th:only-of-type {\n",
              "        vertical-align: middle;\n",
              "    }\n",
              "\n",
              "    .dataframe tbody tr th {\n",
              "        vertical-align: top;\n",
              "    }\n",
              "\n",
              "    .dataframe thead th {\n",
              "        text-align: right;\n",
              "    }\n",
              "</style>\n",
              "<table border=\"1\" class=\"dataframe\">\n",
              "  <thead>\n",
              "    <tr style=\"text-align: right;\">\n",
              "      <th></th>\n",
              "      <th>Matchid</th>\n",
              "      <th>Team1</th>\n",
              "      <th>Team2</th>\n",
              "      <th>Date</th>\n",
              "      <th>Season</th>\n",
              "      <th>Series</th>\n",
              "      <th>Venue</th>\n",
              "      <th>Toss_winner</th>\n",
              "      <th>Toss_decision</th>\n",
              "      <th>Player_of_match</th>\n",
              "      <th>Winner</th>\n",
              "      <th>Players_1</th>\n",
              "      <th>Players_2</th>\n",
              "      <th>Players_3</th>\n",
              "      <th>Players_4</th>\n",
              "      <th>Players_5</th>\n",
              "      <th>Players_6</th>\n",
              "      <th>Players_7</th>\n",
              "      <th>Players_8</th>\n",
              "      <th>Players_9</th>\n",
              "      <th>Players_10</th>\n",
              "      <th>Players_12</th>\n",
              "    </tr>\n",
              "  </thead>\n",
              "  <tbody>\n",
              "    <tr>\n",
              "      <th>0</th>\n",
              "      <td>1004261</td>\n",
              "      <td>Netherlands</td>\n",
              "      <td>Nepal</td>\n",
              "      <td>13-08-2016</td>\n",
              "      <td>2016</td>\n",
              "      <td>\"ICC World Cricket League Championship</td>\n",
              "      <td>VRA Ground</td>\n",
              "      <td>Netherlands</td>\n",
              "      <td>field</td>\n",
              "      <td>AB de Villiers</td>\n",
              "      <td>Netherlands</td>\n",
              "      <td>Irfan Ahmed</td>\n",
              "      <td>Skhawat Ali</td>\n",
              "      <td>JJ Atkinson</td>\n",
              "      <td>Nizakat Khan</td>\n",
              "      <td>Babar Hayat</td>\n",
              "      <td>Waqas Barkat</td>\n",
              "      <td>Ankur Sharma</td>\n",
              "      <td>Haseeb Amjad</td>\n",
              "      <td>Tanwir Afzal</td>\n",
              "      <td>Nadeem Ahmed</td>\n",
              "      <td>Amjad Ali</td>\n",
              "    </tr>\n",
              "    <tr>\n",
              "      <th>1</th>\n",
              "      <td>1004269</td>\n",
              "      <td>Kenya</td>\n",
              "      <td>Hong Kong</td>\n",
              "      <td>20-11-2016</td>\n",
              "      <td>2016</td>\n",
              "      <td>\"ICC World Cricket League Championship</td>\n",
              "      <td>Gymkhana Club Ground</td>\n",
              "      <td>Kenya</td>\n",
              "      <td>field</td>\n",
              "      <td>Babar Hayat</td>\n",
              "      <td>Hong Kong</td>\n",
              "      <td>Zeeshan Siddiqui</td>\n",
              "      <td>Zeeshan Maqsood</td>\n",
              "      <td>Arif Hussain</td>\n",
              "      <td>VS Wategaonkar</td>\n",
              "      <td>Khawar Ali</td>\n",
              "      <td>Aamir Kaleem</td>\n",
              "      <td>Sultan Ahmed</td>\n",
              "      <td>Amir Ali</td>\n",
              "      <td>AV Lalcheta</td>\n",
              "      <td>RJ Ranpura</td>\n",
              "      <td>Noor Ali Zadran</td>\n",
              "    </tr>\n",
              "    <tr>\n",
              "      <th>2</th>\n",
              "      <td>1004283</td>\n",
              "      <td>Scotland</td>\n",
              "      <td>Hong Kong</td>\n",
              "      <td>08-09-2016</td>\n",
              "      <td>2016</td>\n",
              "      <td>Hong Kong in Scotland ODI Series</td>\n",
              "      <td>\"Grange Cricket Club Ground</td>\n",
              "      <td>Hong Kong</td>\n",
              "      <td>field</td>\n",
              "      <td>AB de Villiers</td>\n",
              "      <td>Draw</td>\n",
              "      <td>Irfan Ahmed</td>\n",
              "      <td>Waqas Barkat</td>\n",
              "      <td>Nizakat Khan</td>\n",
              "      <td>JJ Atkinson</td>\n",
              "      <td>Babar Hayat</td>\n",
              "      <td>Ankur Sharma</td>\n",
              "      <td>JPR Lamsam</td>\n",
              "      <td>Haseeb Amjad</td>\n",
              "      <td>Tanwir Afzal</td>\n",
              "      <td>Nadeem Ahmed</td>\n",
              "      <td>SP Khakurel</td>\n",
              "    </tr>\n",
              "    <tr>\n",
              "      <th>3</th>\n",
              "      <td>1004285</td>\n",
              "      <td>Scotland</td>\n",
              "      <td>Hong Kong</td>\n",
              "      <td>10-09-2016</td>\n",
              "      <td>2016</td>\n",
              "      <td>Hong Kong in Scotland ODI Series</td>\n",
              "      <td>\"Grange Cricket Club Ground</td>\n",
              "      <td>Scotland</td>\n",
              "      <td>bat</td>\n",
              "      <td>AB de Villiers</td>\n",
              "      <td>Scotland</td>\n",
              "      <td>Nasir Shafiq</td>\n",
              "      <td>Anwar Arudin</td>\n",
              "      <td>Ahmed Faiz Mohammad Noor</td>\n",
              "      <td>Shafiq Sharif</td>\n",
              "      <td>Suhan Alagaratnam</td>\n",
              "      <td>Suharril Fetri</td>\n",
              "      <td>Hammadullah Khan</td>\n",
              "      <td>Khizar Hayat</td>\n",
              "      <td>Hassan Ghulam</td>\n",
              "      <td>Shahrulnizam Yusof</td>\n",
              "      <td>Amjad Ali</td>\n",
              "    </tr>\n",
              "    <tr>\n",
              "      <th>4</th>\n",
              "      <td>1007649</td>\n",
              "      <td>Zimbabwe</td>\n",
              "      <td>India</td>\n",
              "      <td>11-06-2016</td>\n",
              "      <td>2016</td>\n",
              "      <td>India in Zimbabwe ODI Series</td>\n",
              "      <td>Harare Sports Club</td>\n",
              "      <td>India</td>\n",
              "      <td>field</td>\n",
              "      <td>KL Rahul</td>\n",
              "      <td>India</td>\n",
              "      <td>Noor Ali Zadran</td>\n",
              "      <td>Usman Ghani</td>\n",
              "      <td>Hashmatullah Shahidi</td>\n",
              "      <td>Nasir Jamal</td>\n",
              "      <td>Samiullah Shenwari</td>\n",
              "      <td>Mohammad Nabi</td>\n",
              "      <td>Shafiqullah</td>\n",
              "      <td>Mirwais Ashraf</td>\n",
              "      <td>Dawlat Zadran</td>\n",
              "      <td>Amir Hamza</td>\n",
              "      <td>SP Khakurel</td>\n",
              "    </tr>\n",
              "  </tbody>\n",
              "</table>\n",
              "</div>"
            ],
            "text/plain": [
              "   Matchid        Team1  ...          Players_10       Players_12\n",
              "0  1004261  Netherlands  ...        Nadeem Ahmed        Amjad Ali\n",
              "1  1004269        Kenya  ...          RJ Ranpura  Noor Ali Zadran\n",
              "2  1004283     Scotland  ...        Nadeem Ahmed      SP Khakurel\n",
              "3  1004285     Scotland  ...  Shahrulnizam Yusof        Amjad Ali\n",
              "4  1007649     Zimbabwe  ...          Amir Hamza      SP Khakurel\n",
              "\n",
              "[5 rows x 22 columns]"
            ]
          },
          "metadata": {
            "tags": []
          },
          "execution_count": 19
        }
      ]
    },
    {
      "cell_type": "code",
      "metadata": {
        "id": "PFwXByauosgR"
      },
      "source": [
        "# match_merged[match_merged['Players_1']=='V Kohli']"
      ],
      "execution_count": 20,
      "outputs": []
    },
    {
      "cell_type": "code",
      "metadata": {
        "colab": {
          "base_uri": "https://localhost:8080/",
          "height": 0
        },
        "id": "3VvXmRMOqcD7",
        "outputId": "d41abfda-33d1-49d3-808b-50a3ac4365f5"
      },
      "source": [
        "match_merged.shape"
      ],
      "execution_count": 21,
      "outputs": [
        {
          "output_type": "execute_result",
          "data": {
            "text/plain": [
              "(1905, 22)"
            ]
          },
          "metadata": {
            "tags": []
          },
          "execution_count": 21
        }
      ]
    },
    {
      "cell_type": "markdown",
      "metadata": {
        "id": "VcwzTy3XwZvP"
      },
      "source": [
        "## **EXPLORATORY DATA ANALYSIS(EDA)**"
      ]
    },
    {
      "cell_type": "markdown",
      "metadata": {
        "id": "YADikpysybZC"
      },
      "source": [
        "### **1.) Season having high number of matches** \n",
        "\n"
      ]
    },
    {
      "cell_type": "code",
      "metadata": {
        "colab": {
          "base_uri": "https://localhost:8080/",
          "height": 882
        },
        "id": "8ES1NhBXwYuf",
        "outputId": "9f3c0712-2805-41e0-a574-9ded4cf6cd84"
      },
      "source": [
        "import seaborn as sns\n",
        "import matplotlib.pyplot as plt \n",
        "plt.figure(figsize=(20,6))\n",
        "sns.countplot(x='Season', data=match_merged, palette=['Green',\"Lightblue\",'Pink','Blue','Red'])\n",
        "match_merged['Season'].value_counts().to_frame()"
      ],
      "execution_count": 522,
      "outputs": [
        {
          "output_type": "execute_result",
          "data": {
            "text/html": [
              "<div>\n",
              "<style scoped>\n",
              "    .dataframe tbody tr th:only-of-type {\n",
              "        vertical-align: middle;\n",
              "    }\n",
              "\n",
              "    .dataframe tbody tr th {\n",
              "        vertical-align: top;\n",
              "    }\n",
              "\n",
              "    .dataframe thead th {\n",
              "        text-align: right;\n",
              "    }\n",
              "</style>\n",
              "<table border=\"1\" class=\"dataframe\">\n",
              "  <thead>\n",
              "    <tr style=\"text-align: right;\">\n",
              "      <th></th>\n",
              "      <th>Season</th>\n",
              "    </tr>\n",
              "  </thead>\n",
              "  <tbody>\n",
              "    <tr>\n",
              "      <th>2014</th>\n",
              "      <td>231</td>\n",
              "    </tr>\n",
              "    <tr>\n",
              "      <th>2016</th>\n",
              "      <td>205</td>\n",
              "    </tr>\n",
              "    <tr>\n",
              "      <th>2013</th>\n",
              "      <td>169</td>\n",
              "    </tr>\n",
              "    <tr>\n",
              "      <th>2009</th>\n",
              "      <td>149</td>\n",
              "    </tr>\n",
              "    <tr>\n",
              "      <th>2015</th>\n",
              "      <td>147</td>\n",
              "    </tr>\n",
              "    <tr>\n",
              "      <th>2010</th>\n",
              "      <td>141</td>\n",
              "    </tr>\n",
              "    <tr>\n",
              "      <th>2006</th>\n",
              "      <td>138</td>\n",
              "    </tr>\n",
              "    <tr>\n",
              "      <th>2012</th>\n",
              "      <td>129</td>\n",
              "    </tr>\n",
              "    <tr>\n",
              "      <th>2011</th>\n",
              "      <td>126</td>\n",
              "    </tr>\n",
              "    <tr>\n",
              "      <th>2007</th>\n",
              "      <td>119</td>\n",
              "    </tr>\n",
              "    <tr>\n",
              "      <th>2017</th>\n",
              "      <td>114</td>\n",
              "    </tr>\n",
              "    <tr>\n",
              "      <th>2008</th>\n",
              "      <td>93</td>\n",
              "    </tr>\n",
              "    <tr>\n",
              "      <th>2019</th>\n",
              "      <td>64</td>\n",
              "    </tr>\n",
              "    <tr>\n",
              "      <th>2005</th>\n",
              "      <td>47</td>\n",
              "    </tr>\n",
              "    <tr>\n",
              "      <th>2018</th>\n",
              "      <td>33</td>\n",
              "    </tr>\n",
              "  </tbody>\n",
              "</table>\n",
              "</div>"
            ],
            "text/plain": [
              "      Season\n",
              "2014     231\n",
              "2016     205\n",
              "2013     169\n",
              "2009     149\n",
              "2015     147\n",
              "2010     141\n",
              "2006     138\n",
              "2012     129\n",
              "2011     126\n",
              "2007     119\n",
              "2017     114\n",
              "2008      93\n",
              "2019      64\n",
              "2005      47\n",
              "2018      33"
            ]
          },
          "metadata": {
            "tags": []
          },
          "execution_count": 522
        },
        {
          "output_type": "display_data",
          "data": {
            "image/png": "[encoded data removed]",
            "text/plain": [
              "<Figure size 1440x432 with 1 Axes>"
            ]
          },
          "metadata": {
            "tags": [],
            "needs_background": "light"
          }
        }
      ]
    },
    {
      "cell_type": "markdown",
      "metadata": {
        "id": "79zSSZyKymoL"
      },
      "source": [
        "**Observation:** 2014 was the season with most number of matches in a season\n"
      ]
    },
    {
      "cell_type": "markdown",
      "metadata": {
        "id": "vFhASw5h1KUM"
      },
      "source": [
        "### **2.) Most Number of wins in whole of teams having more than 10 wins**"
      ]
    },
    {
      "cell_type": "code",
      "metadata": {
        "colab": {
          "base_uri": "https://localhost:8080/",
          "height": 707
        },
        "id": "7UUf5kk1za8h",
        "outputId": "4ddb4747-9ec7-438d-b3c1-332f52a8fdaa"
      },
      "source": [
        "filtered_match=match_merged.groupby('Winner').filter(lambda x : len(x)>10)\n",
        "plt.figure(figsize=(12,10))\n",
        "data = filtered_match.Winner.value_counts()\n",
        "sns.barplot(y = data.index, x = data, orient='h',palette=['Green',\"Lightblue\",'Pink','Blue','Red'])\n",
        "data.head()"
      ],
      "execution_count": 523,
      "outputs": [
        {
          "output_type": "execute_result",
          "data": {
            "text/plain": [
              "Australia       209\n",
              "India           201\n",
              "South Africa    171\n",
              "England         153\n",
              "Sri Lanka       152\n",
              "Name: Winner, dtype: int64"
            ]
          },
          "metadata": {
            "tags": []
          },
          "execution_count": 523
        },
        {
          "output_type": "display_data",
          "data": {
            "image/png": "[encoded data removed]",
            "text/plain": [
              "<Figure size 864x720 with 1 Axes>"
            ]
          },
          "metadata": {
            "tags": [],
            "needs_background": "light"
          }
        }
      ]
    },
    {
      "cell_type": "markdown",
      "metadata": {
        "id": "IxgaufLR1fgg"
      },
      "source": [
        "**Observation:** Australia has the most number of wins\n"
      ]
    },
    {
      "cell_type": "markdown",
      "metadata": {
        "id": "x88t116y5i-T"
      },
      "source": [
        "### **3.) Most Number of Player of match awards**"
      ]
    },
    {
      "cell_type": "code",
      "metadata": {
        "colab": {
          "base_uri": "https://localhost:8080/",
          "height": 709
        },
        "id": "rct3jafT2Nkp",
        "outputId": "f48aabf9-2b82-4316-b8da-cc4cb8599ca4"
      },
      "source": [
        "top_players = match_merged.Player_of_match.value_counts()[:10]\n",
        "fig, ax = plt.subplots(figsize=(15,8))\n",
        "ax.set_ylim([0,95])\n",
        "ax.set_ylabel(\"Count\").set_size(20)\n",
        "ax.set_xlabel(\"Player Name\").set_size(20)\n",
        "ax.set_title(\"Top player of the match Winners\")\n",
        "top_players.plot.bar()\n",
        "sns.barplot(x = top_players.index, y = top_players, orient='v', palette=\"Greens\");\n",
        "top_players.head()"
      ],
      "execution_count": 525,
      "outputs": [
        {
          "output_type": "execute_result",
          "data": {
            "text/plain": [
              "AB de Villiers    133\n",
              "V Kohli            26\n",
              "MS Dhoni           25\n",
              "TM Dilshan         24\n",
              "KC Sangakkara      20\n",
              "Name: Player_of_match, dtype: int64"
            ]
          },
          "metadata": {
            "tags": []
          },
          "execution_count": 525
        },
        {
          "output_type": "display_data",
          "data": {
            "image/png": "[encoded data removed]",
            "text/plain": [
              "<Figure size 1080x576 with 1 Axes>"
            ]
          },
          "metadata": {
            "tags": [],
            "needs_background": "light"
          }
        }
      ]
    },
    {
      "cell_type": "markdown",
      "metadata": {
        "id": "NxCNWaoA4pu6"
      },
      "source": [
        "**Observation:** \"AB de villiers\" has the most number of Player of match awards\n"
      ]
    },
    {
      "cell_type": "markdown",
      "metadata": {
        "id": "Zt1n3OP75gWy"
      },
      "source": [
        "### **4.) Count of number of matches at each venue having count more than 10**"
      ]
    },
    {
      "cell_type": "code",
      "metadata": {
        "colab": {
          "base_uri": "https://localhost:8080/",
          "height": 956
        },
        "id": "FbJ4vhl7411N",
        "outputId": "941837a2-0a9c-42a1-e14e-6b4602cbf792"
      },
      "source": [
        "filtered_venue=match_merged.groupby('Venue').filter(lambda x : len(x)>10)\n",
        "plt.figure(figsize=(18,12))\n",
        "sns.countplot(x='Venue', data=filtered_venue,palette=['Green',\"Lightblue\",'Pink','Blue','Red'])\n",
        "plt.xticks(rotation='vertical')\n",
        "plt.show()"
      ],
      "execution_count": 527,
      "outputs": [
        {
          "output_type": "display_data",
          "data": {
            "image/png": "[encoded data removed]",
            "text/plain": [
              "<Figure size 1296x864 with 1 Axes>"
            ]
          },
          "metadata": {
            "tags": [],
            "needs_background": "light"
          }
        }
      ]
    },
    {
      "cell_type": "markdown",
      "metadata": {
        "id": "SPT6-UCh54Fn"
      },
      "source": [
        "**Observation:** \"Shere Bangla National Stadium\" has hosted the most number of matches\n"
      ]
    },
    {
      "cell_type": "markdown",
      "metadata": {
        "id": "rF9gRP8PEsRA"
      },
      "source": [
        "### **5.) Toss decision Percentage**"
      ]
    },
    {
      "cell_type": "code",
      "metadata": {
        "colab": {
          "base_uri": "https://localhost:8080/",
          "height": 373
        },
        "id": "XYx-XbIi8c2f",
        "outputId": "cfe31b47-ba39-4aec-ba66-656c7926ecb3"
      },
      "source": [
        "import numpy as np\n",
        "plt.figure(figsize=(12,6))\n",
        "temp_series = match_merged.Toss_decision.value_counts()\n",
        "labels = (np.array(temp_series.index))\n",
        "sizes = (np.array((temp_series / temp_series.sum())*100))\n",
        "colors = ['red', 'yellow']\n",
        "plt.pie(sizes, labels=labels, colors=colors,\n",
        "        autopct='%1.1f%%', shadow=True, startangle=45)\n",
        "plt.title(\"Toss decision percentage\")\n",
        "plt.show()"
      ],
      "execution_count": 26,
      "outputs": [
        {
          "output_type": "display_data",
          "data": {
            "image/png": "[encoded data removed]",
            "text/plain": [
              "<Figure size 864x432 with 1 Axes>"
            ]
          },
          "metadata": {
            "tags": []
          }
        }
      ]
    },
    {
      "cell_type": "markdown",
      "metadata": {
        "id": "_o7PW-KD_TQh"
      },
      "source": [
        "**Observation:** Almost 51% of the toss decisions are made to bat first."
      ]
    },
    {
      "cell_type": "markdown",
      "metadata": {
        "id": "OU3omov9EhTl"
      },
      "source": [
        "### **6.)Decision of toss over time**"
      ]
    },
    {
      "cell_type": "code",
      "metadata": {
        "colab": {
          "base_uri": "https://localhost:8080/",
          "height": 403
        },
        "id": "J4dwmk-P_bdf",
        "outputId": "beabe142-be41-4820-eea6-2b349362b1d4"
      },
      "source": [
        "sorted_season=match_merged.sort_values(by='Season')\n",
        "plt.figure(figsize=(12,6))\n",
        "sns.countplot(x='Season', hue='Toss_decision', data=sorted_season,palette=['Green',\"Lightblue\"])\n",
        "plt.xticks(rotation='vertical')\n",
        "plt.show()"
      ],
      "execution_count": 529,
      "outputs": [
        {
          "output_type": "display_data",
          "data": {
            "image/png": "[encoded data removed]",
            "text/plain": [
              "<Figure size 864x432 with 1 Axes>"
            ]
          },
          "metadata": {
            "tags": [],
            "needs_background": "light"
          }
        }
      ]
    },
    {
      "cell_type": "markdown",
      "metadata": {
        "id": "nSfX6JLu_qR8"
      },
      "source": [
        "**Observation:** Initial year witnessed teams choosing bat first after winning the toss, but from 2017, positive ratio has shifted towards fielding and teams have started choosing fielding after winning the toss."
      ]
    },
    {
      "cell_type": "markdown",
      "metadata": {
        "id": "cXogsrIPZi7i"
      },
      "source": [
        "## **DATA MODELLING**"
      ]
    },
    {
      "cell_type": "markdown",
      "metadata": {
        "id": "NTPGFJLigOdF"
      },
      "source": [
        "### **Prediction for Player-1**"
      ]
    },
    {
      "cell_type": "code",
      "metadata": {
        "colab": {
          "base_uri": "https://localhost:8080/",
          "height": 417
        },
        "id": "ON-UGAXs7L5L",
        "outputId": "99178f03-4877-417c-bacb-d4652b48647a"
      },
      "source": [
        "from sklearn.preprocessing import LabelEncoder\n",
        "P1 = match_merged[['Players_1','Players_2','Team1','Season','Venue']].copy()\n",
        "var_mod = ['Team1','Venue','Season','Players_2']\n",
        "l = LabelEncoder()\n",
        "for i in var_mod:\n",
        "    P1[i] = l.fit_transform(P1[i])\n",
        "P1"
      ],
      "execution_count": 34,
      "outputs": [
        {
          "output_type": "execute_result",
          "data": {
            "text/html": [
              "<div>\n",
              "<style scoped>\n",
              "    .dataframe tbody tr th:only-of-type {\n",
              "        vertical-align: middle;\n",
              "    }\n",
              "\n",
              "    .dataframe tbody tr th {\n",
              "        vertical-align: top;\n",
              "    }\n",
              "\n",
              "    .dataframe thead th {\n",
              "        text-align: right;\n",
              "    }\n",
              "</style>\n",
              "<table border=\"1\" class=\"dataframe\">\n",
              "  <thead>\n",
              "    <tr style=\"text-align: right;\">\n",
              "      <th></th>\n",
              "      <th>Players_1</th>\n",
              "      <th>Players_2</th>\n",
              "      <th>Team1</th>\n",
              "      <th>Season</th>\n",
              "      <th>Venue</th>\n",
              "    </tr>\n",
              "  </thead>\n",
              "  <tbody>\n",
              "    <tr>\n",
              "      <th>0</th>\n",
              "      <td>Irfan Ahmed</td>\n",
              "      <td>428</td>\n",
              "      <td>42</td>\n",
              "      <td>11</td>\n",
              "      <td>210</td>\n",
              "    </tr>\n",
              "    <tr>\n",
              "      <th>1</th>\n",
              "      <td>Zeeshan Siddiqui</td>\n",
              "      <td>470</td>\n",
              "      <td>32</td>\n",
              "      <td>11</td>\n",
              "      <td>91</td>\n",
              "    </tr>\n",
              "    <tr>\n",
              "      <th>2</th>\n",
              "      <td>Irfan Ahmed</td>\n",
              "      <td>463</td>\n",
              "      <td>57</td>\n",
              "      <td>11</td>\n",
              "      <td>8</td>\n",
              "    </tr>\n",
              "    <tr>\n",
              "      <th>3</th>\n",
              "      <td>Nasir Shafiq</td>\n",
              "      <td>42</td>\n",
              "      <td>57</td>\n",
              "      <td>11</td>\n",
              "      <td>8</td>\n",
              "    </tr>\n",
              "    <tr>\n",
              "      <th>4</th>\n",
              "      <td>Noor Ali Zadran</td>\n",
              "      <td>451</td>\n",
              "      <td>73</td>\n",
              "      <td>11</td>\n",
              "      <td>93</td>\n",
              "    </tr>\n",
              "    <tr>\n",
              "      <th>...</th>\n",
              "      <td>...</td>\n",
              "      <td>...</td>\n",
              "      <td>...</td>\n",
              "      <td>...</td>\n",
              "      <td>...</td>\n",
              "    </tr>\n",
              "    <tr>\n",
              "      <th>1900</th>\n",
              "      <td>Zeeshan Siddiqui</td>\n",
              "      <td>470</td>\n",
              "      <td>28</td>\n",
              "      <td>11</td>\n",
              "      <td>5</td>\n",
              "    </tr>\n",
              "    <tr>\n",
              "      <th>1901</th>\n",
              "      <td>Amjad Ali</td>\n",
              "      <td>412</td>\n",
              "      <td>28</td>\n",
              "      <td>11</td>\n",
              "      <td>5</td>\n",
              "    </tr>\n",
              "    <tr>\n",
              "      <th>1902</th>\n",
              "      <td>Noor Ali Zadran</td>\n",
              "      <td>451</td>\n",
              "      <td>28</td>\n",
              "      <td>11</td>\n",
              "      <td>5</td>\n",
              "    </tr>\n",
              "    <tr>\n",
              "      <th>1903</th>\n",
              "      <td>Anwar Arudin</td>\n",
              "      <td>432</td>\n",
              "      <td>57</td>\n",
              "      <td>11</td>\n",
              "      <td>8</td>\n",
              "    </tr>\n",
              "    <tr>\n",
              "      <th>1904</th>\n",
              "      <td>Zeeshan Siddiqui</td>\n",
              "      <td>470</td>\n",
              "      <td>57</td>\n",
              "      <td>11</td>\n",
              "      <td>8</td>\n",
              "    </tr>\n",
              "  </tbody>\n",
              "</table>\n",
              "<p>1905 rows × 5 columns</p>\n",
              "</div>"
            ],
            "text/plain": [
              "             Players_1  Players_2  Team1  Season  Venue\n",
              "0          Irfan Ahmed        428     42      11    210\n",
              "1     Zeeshan Siddiqui        470     32      11     91\n",
              "2          Irfan Ahmed        463     57      11      8\n",
              "3         Nasir Shafiq         42     57      11      8\n",
              "4      Noor Ali Zadran        451     73      11     93\n",
              "...                ...        ...    ...     ...    ...\n",
              "1900  Zeeshan Siddiqui        470     28      11      5\n",
              "1901         Amjad Ali        412     28      11      5\n",
              "1902   Noor Ali Zadran        451     28      11      5\n",
              "1903      Anwar Arudin        432     57      11      8\n",
              "1904  Zeeshan Siddiqui        470     57      11      8\n",
              "\n",
              "[1905 rows x 5 columns]"
            ]
          },
          "metadata": {
            "tags": []
          },
          "execution_count": 34
        }
      ]
    },
    {
      "cell_type": "markdown",
      "metadata": {
        "id": "OMIR4L4SNqxU"
      },
      "source": [
        "Taking players having count greater than 5"
      ]
    },
    {
      "cell_type": "code",
      "metadata": {
        "id": "g2wlFMBoCktE"
      },
      "source": [
        "clean_P1=P1.groupby('Players_1').filter(lambda x : len(x)>5)"
      ],
      "execution_count": 35,
      "outputs": []
    },
    {
      "cell_type": "code",
      "metadata": {
        "colab": {
          "base_uri": "https://localhost:8080/",
          "height": 0
        },
        "id": "HtB6bFfnN2vd",
        "outputId": "38c98bd5-301a-4321-cf40-4ff555743e3d"
      },
      "source": [
        "clean_P1['Players_1'].value_counts()"
      ],
      "execution_count": 36,
      "outputs": [
        {
          "output_type": "execute_result",
          "data": {
            "text/plain": [
              "Tamim Iqbal    70\n",
              "WU Tharanga    66\n",
              "MJ Guptill     51\n",
              "HM Amla        49\n",
              "SR Watson      45\n",
              "               ..\n",
              "Imran Nazir     6\n",
              "PW Gough        6\n",
              "JD Ryder        6\n",
              "PJ Moor         6\n",
              "PG Raut         6\n",
              "Name: Players_1, Length: 75, dtype: int64"
            ]
          },
          "metadata": {
            "tags": []
          },
          "execution_count": 36
        }
      ]
    },
    {
      "cell_type": "code",
      "metadata": {
        "colab": {
          "base_uri": "https://localhost:8080/",
          "height": 0
        },
        "id": "ZZKE7K5bw9v6",
        "outputId": "2d3e4c8e-8ca1-4ae8-e565-07b2b2f1fd59"
      },
      "source": [
        "clean_P1.shape"
      ],
      "execution_count": 37,
      "outputs": [
        {
          "output_type": "execute_result",
          "data": {
            "text/plain": [
              "(1313, 5)"
            ]
          },
          "metadata": {
            "tags": []
          },
          "execution_count": 37
        }
      ]
    },
    {
      "cell_type": "code",
      "metadata": {
        "id": "TbnI37sM8L9Q"
      },
      "source": [
        "from sklearn.model_selection import train_test_split\n",
        "Y=clean_P1.pop('Players_1')\n",
        "X=clean_P1\n",
        "X_train,X_test,y_train,y_test = train_test_split(X,Y,test_size=0.21,random_state=2)"
      ],
      "execution_count": 38,
      "outputs": []
    },
    {
      "cell_type": "markdown",
      "metadata": {
        "id": "nb7VG0xcMO-O"
      },
      "source": [
        "Decision Tree Algorithm-Player 1"
      ]
    },
    {
      "cell_type": "code",
      "metadata": {
        "id": "y-m_AC3zDWY1"
      },
      "source": [
        "from sklearn.tree import DecisionTreeClassifier\n",
        "classifier = DecisionTreeClassifier()\n",
        "classifier = classifier.fit(X_train,y_train)"
      ],
      "execution_count": 40,
      "outputs": []
    },
    {
      "cell_type": "code",
      "metadata": {
        "id": "lBQAwADrDaxV"
      },
      "source": [
        "y_pred = classifier.predict(X_test)"
      ],
      "execution_count": 41,
      "outputs": []
    },
    {
      "cell_type": "code",
      "metadata": {
        "colab": {
          "base_uri": "https://localhost:8080/",
          "height": 0
        },
        "id": "eyGPFagCDdW4",
        "outputId": "5f953bb9-46cb-4dfb-948a-a75f851e9c91"
      },
      "source": [
        "accuracy1=round(metrics.accuracy_score(y_test, y_pred)*100,0)\n",
        "acc_list=[]\n",
        "acc_list.append(accuracy1)\n",
        "print(\"Accuracy of the model:\", accuracy1)"
      ],
      "execution_count": 42,
      "outputs": [
        {
          "output_type": "stream",
          "text": [
            "Accuracy of the model: 57.0\n"
          ],
          "name": "stdout"
        }
      ]
    },
    {
      "cell_type": "markdown",
      "metadata": {
        "id": "IrjTJx3iF4wn"
      },
      "source": [
        "Predicting Player 1 Who have played with V Kohli in match India in Wankhede Stadium Encoded Values for Input variables are:\n",
        "\n",
        "1. Player 2(V Kohli)=227\n",
        "2. India encoding: 27\n",
        "3. 2019:14\n",
        "4. wankhede 214  \n",
        "\n",
        "\n"
      ]
    },
    {
      "cell_type": "code",
      "metadata": {
        "id": "uwa1lQwDNJdN",
        "colab": {
          "base_uri": "https://localhost:8080/",
          "height": 0
        },
        "outputId": "64dcfe5a-b854-4afe-b9c5-32a71a23e84e"
      },
      "source": [
        "classifier.predict([[227,27,14,214]])"
      ],
      "execution_count": 45,
      "outputs": [
        {
          "output_type": "execute_result",
          "data": {
            "text/plain": [
              "array(['AM Rahane'], dtype=object)"
            ]
          },
          "metadata": {
            "tags": []
          },
          "execution_count": 45
        }
      ]
    },
    {
      "cell_type": "markdown",
      "metadata": {
        "id": "4pZZA4ThDHTK"
      },
      "source": [
        "**PLAYER 1= AM Rahane**"
      ]
    },
    {
      "cell_type": "markdown",
      "metadata": {
        "id": "gGacpNzBphue"
      },
      "source": [
        "### **Prediction for Player-2**"
      ]
    },
    {
      "cell_type": "code",
      "metadata": {
        "colab": {
          "base_uri": "https://localhost:8080/",
          "height": 417
        },
        "id": "DkA6nzl-pcWM",
        "outputId": "3f0eb083-731a-4904-9d47-9971a7d2336b"
      },
      "source": [
        "from sklearn.preprocessing import LabelEncoder\n",
        "P2 = match_merged[['Players_1','Players_2','Players_3','Team1','Season','Venue']].copy()\n",
        "var2 = ['Team1','Venue','Season','Players_1','Players_3']\n",
        "l = LabelEncoder()\n",
        "for i in var2:\n",
        "    P2[i] = l.fit_transform(P2[i])\n",
        "P2"
      ],
      "execution_count": 90,
      "outputs": [
        {
          "output_type": "execute_result",
          "data": {
            "text/html": [
              "<div>\n",
              "<style scoped>\n",
              "    .dataframe tbody tr th:only-of-type {\n",
              "        vertical-align: middle;\n",
              "    }\n",
              "\n",
              "    .dataframe tbody tr th {\n",
              "        vertical-align: top;\n",
              "    }\n",
              "\n",
              "    .dataframe thead th {\n",
              "        text-align: right;\n",
              "    }\n",
              "</style>\n",
              "<table border=\"1\" class=\"dataframe\">\n",
              "  <thead>\n",
              "    <tr style=\"text-align: right;\">\n",
              "      <th></th>\n",
              "      <th>Players_1</th>\n",
              "      <th>Players_2</th>\n",
              "      <th>Players_3</th>\n",
              "      <th>Team1</th>\n",
              "      <th>Season</th>\n",
              "      <th>Venue</th>\n",
              "    </tr>\n",
              "  </thead>\n",
              "  <tbody>\n",
              "    <tr>\n",
              "      <th>0</th>\n",
              "      <td>137</td>\n",
              "      <td>Skhawat Ali</td>\n",
              "      <td>192</td>\n",
              "      <td>42</td>\n",
              "      <td>11</td>\n",
              "      <td>210</td>\n",
              "    </tr>\n",
              "    <tr>\n",
              "      <th>1</th>\n",
              "      <td>372</td>\n",
              "      <td>Zeeshan Maqsood</td>\n",
              "      <td>52</td>\n",
              "      <td>32</td>\n",
              "      <td>11</td>\n",
              "      <td>91</td>\n",
              "    </tr>\n",
              "    <tr>\n",
              "      <th>2</th>\n",
              "      <td>137</td>\n",
              "      <td>Waqas Barkat</td>\n",
              "      <td>338</td>\n",
              "      <td>57</td>\n",
              "      <td>11</td>\n",
              "      <td>8</td>\n",
              "    </tr>\n",
              "    <tr>\n",
              "      <th>3</th>\n",
              "      <td>264</td>\n",
              "      <td>Anwar Arudin</td>\n",
              "      <td>47</td>\n",
              "      <td>57</td>\n",
              "      <td>11</td>\n",
              "      <td>8</td>\n",
              "    </tr>\n",
              "    <tr>\n",
              "      <th>4</th>\n",
              "      <td>265</td>\n",
              "      <td>Usman Ghani</td>\n",
              "      <td>166</td>\n",
              "      <td>73</td>\n",
              "      <td>11</td>\n",
              "      <td>93</td>\n",
              "    </tr>\n",
              "    <tr>\n",
              "      <th>...</th>\n",
              "      <td>...</td>\n",
              "      <td>...</td>\n",
              "      <td>...</td>\n",
              "      <td>...</td>\n",
              "      <td>...</td>\n",
              "      <td>...</td>\n",
              "    </tr>\n",
              "    <tr>\n",
              "      <th>1900</th>\n",
              "      <td>372</td>\n",
              "      <td>Zeeshan Maqsood</td>\n",
              "      <td>52</td>\n",
              "      <td>28</td>\n",
              "      <td>11</td>\n",
              "      <td>5</td>\n",
              "    </tr>\n",
              "    <tr>\n",
              "      <th>1901</th>\n",
              "      <td>38</td>\n",
              "      <td>Salman Faris</td>\n",
              "      <td>239</td>\n",
              "      <td>28</td>\n",
              "      <td>11</td>\n",
              "      <td>5</td>\n",
              "    </tr>\n",
              "    <tr>\n",
              "      <th>1902</th>\n",
              "      <td>265</td>\n",
              "      <td>Usman Ghani</td>\n",
              "      <td>380</td>\n",
              "      <td>28</td>\n",
              "      <td>11</td>\n",
              "      <td>5</td>\n",
              "    </tr>\n",
              "    <tr>\n",
              "      <th>1903</th>\n",
              "      <td>41</td>\n",
              "      <td>Suhan Alagaratnam</td>\n",
              "      <td>47</td>\n",
              "      <td>57</td>\n",
              "      <td>11</td>\n",
              "      <td>8</td>\n",
              "    </tr>\n",
              "    <tr>\n",
              "      <th>1904</th>\n",
              "      <td>372</td>\n",
              "      <td>Zeeshan Maqsood</td>\n",
              "      <td>238</td>\n",
              "      <td>57</td>\n",
              "      <td>11</td>\n",
              "      <td>8</td>\n",
              "    </tr>\n",
              "  </tbody>\n",
              "</table>\n",
              "<p>1905 rows × 6 columns</p>\n",
              "</div>"
            ],
            "text/plain": [
              "      Players_1          Players_2  Players_3  Team1  Season  Venue\n",
              "0           137        Skhawat Ali        192     42      11    210\n",
              "1           372    Zeeshan Maqsood         52     32      11     91\n",
              "2           137       Waqas Barkat        338     57      11      8\n",
              "3           264       Anwar Arudin         47     57      11      8\n",
              "4           265        Usman Ghani        166     73      11     93\n",
              "...         ...                ...        ...    ...     ...    ...\n",
              "1900        372    Zeeshan Maqsood         52     28      11      5\n",
              "1901         38       Salman Faris        239     28      11      5\n",
              "1902        265        Usman Ghani        380     28      11      5\n",
              "1903         41  Suhan Alagaratnam         47     57      11      8\n",
              "1904        372    Zeeshan Maqsood        238     57      11      8\n",
              "\n",
              "[1905 rows x 6 columns]"
            ]
          },
          "metadata": {
            "tags": []
          },
          "execution_count": 90
        }
      ]
    },
    {
      "cell_type": "code",
      "metadata": {
        "id": "KvKcrUWrpcTj"
      },
      "source": [
        "clean_P2=P2.groupby('Players_2').filter(lambda y: len(y)>5)"
      ],
      "execution_count": 91,
      "outputs": []
    },
    {
      "cell_type": "code",
      "metadata": {
        "colab": {
          "base_uri": "https://localhost:8080/",
          "height": 0
        },
        "id": "uezFPSBNrejX",
        "outputId": "800e07f3-2a68-4ff1-b616-33921f043f88"
      },
      "source": [
        "clean_P2.shape"
      ],
      "execution_count": 92,
      "outputs": [
        {
          "output_type": "execute_result",
          "data": {
            "text/plain": [
              "(1208, 6)"
            ]
          },
          "metadata": {
            "tags": []
          },
          "execution_count": 92
        }
      ]
    },
    {
      "cell_type": "code",
      "metadata": {
        "id": "ipCjfCQvpcQY"
      },
      "source": [
        "from sklearn.model_selection import train_test_split\n",
        "Y=clean_P2.pop('Players_2')\n",
        "X=clean_P2\n",
        "X_train,X_test,y_train,y_test = train_test_split(X,Y,test_size=0.21,random_state=3)"
      ],
      "execution_count": 93,
      "outputs": []
    },
    {
      "cell_type": "code",
      "metadata": {
        "id": "NVTk-QflpcOU"
      },
      "source": [
        "from sklearn.tree import DecisionTreeClassifier\n",
        "classifier = DecisionTreeClassifier()\n",
        "classifier = classifier.fit(X_train,y_train)"
      ],
      "execution_count": 94,
      "outputs": []
    },
    {
      "cell_type": "code",
      "metadata": {
        "id": "WuuH5LI0pcLy"
      },
      "source": [
        "y_pred_2 = classifier.predict(X_test)"
      ],
      "execution_count": 95,
      "outputs": []
    },
    {
      "cell_type": "code",
      "metadata": {
        "colab": {
          "base_uri": "https://localhost:8080/",
          "height": 0
        },
        "id": "K4NJ46A1pcGA",
        "outputId": "c913d971-ae46-4e30-d037-a17d89de42a6"
      },
      "source": [
        "accuracy2=round(metrics.accuracy_score(y_test, y_pred_2)*100,0)\n",
        "acc_list.append(accuracy2)\n",
        "print(\"Accuracy of the model:\", accuracy2)"
      ],
      "execution_count": 97,
      "outputs": [
        {
          "output_type": "stream",
          "text": [
            "Accuracy of the model: 52.0\n"
          ],
          "name": "stdout"
        }
      ]
    },
    {
      "cell_type": "markdown",
      "metadata": {
        "id": "jPR7K1w3t-fb"
      },
      "source": [
        "For predicting Player 2, I have also used the value which was predicted in player 1.\n",
        "Also, Predicting Player 2 Who have played with AM Rahane and KL Rahul in India in Wankhede Stadium in 2019 Encoded Values for Input variables are:\n",
        "\n",
        "1. Player 1(AM Rahane)=23(Predicted Value)\n",
        "2. Player 3(KL Rahul)=229 \n",
        "3. India encoding: 27\n",
        "4. 2019:14\n",
        "5. wankhede 214  "
      ]
    },
    {
      "cell_type": "code",
      "metadata": {
        "colab": {
          "base_uri": "https://localhost:8080/",
          "height": 0
        },
        "id": "oUa9CDr3sf-F",
        "outputId": "a7c3836c-84ef-4a31-e50f-014f2768a5e0"
      },
      "source": [
        "classifier.predict([[23,229,27,14,214]])"
      ],
      "execution_count": 101,
      "outputs": [
        {
          "output_type": "execute_result",
          "data": {
            "text/plain": [
              "array(['M Vijay'], dtype=object)"
            ]
          },
          "metadata": {
            "tags": []
          },
          "execution_count": 101
        }
      ]
    },
    {
      "cell_type": "markdown",
      "metadata": {
        "id": "azvta4dWC7PH"
      },
      "source": [
        "**PLAYER 2= M Vijay**"
      ]
    },
    {
      "cell_type": "markdown",
      "metadata": {
        "id": "G-SEIreJ3iMC"
      },
      "source": [
        "### **Prediction for Player-3**"
      ]
    },
    {
      "cell_type": "code",
      "metadata": {
        "colab": {
          "base_uri": "https://localhost:8080/",
          "height": 417
        },
        "id": "9qyuPtl_90g5",
        "outputId": "cf3be144-e824-4aa7-d5dc-41854b2d05f9"
      },
      "source": [
        "from sklearn.preprocessing import LabelEncoder\n",
        "P3 = match_merged[['Players_1','Players_2','Players_3','Players_4','Team1','Season','Venue']].copy()\n",
        "var3 = ['Team1','Venue','Season','Players_1','Players_2','Players_4']\n",
        "l = LabelEncoder()\n",
        "for i in var3:\n",
        "    P3[i] = l.fit_transform(P3[i])\n",
        "P3"
      ],
      "execution_count": 108,
      "outputs": [
        {
          "output_type": "execute_result",
          "data": {
            "text/html": [
              "<div>\n",
              "<style scoped>\n",
              "    .dataframe tbody tr th:only-of-type {\n",
              "        vertical-align: middle;\n",
              "    }\n",
              "\n",
              "    .dataframe tbody tr th {\n",
              "        vertical-align: top;\n",
              "    }\n",
              "\n",
              "    .dataframe thead th {\n",
              "        text-align: right;\n",
              "    }\n",
              "</style>\n",
              "<table border=\"1\" class=\"dataframe\">\n",
              "  <thead>\n",
              "    <tr style=\"text-align: right;\">\n",
              "      <th></th>\n",
              "      <th>Players_1</th>\n",
              "      <th>Players_2</th>\n",
              "      <th>Players_3</th>\n",
              "      <th>Players_4</th>\n",
              "      <th>Team1</th>\n",
              "      <th>Season</th>\n",
              "      <th>Venue</th>\n",
              "    </tr>\n",
              "  </thead>\n",
              "  <tbody>\n",
              "    <tr>\n",
              "      <th>0</th>\n",
              "      <td>137</td>\n",
              "      <td>428</td>\n",
              "      <td>JJ Atkinson</td>\n",
              "      <td>286</td>\n",
              "      <td>42</td>\n",
              "      <td>11</td>\n",
              "      <td>210</td>\n",
              "    </tr>\n",
              "    <tr>\n",
              "      <th>1</th>\n",
              "      <td>372</td>\n",
              "      <td>470</td>\n",
              "      <td>Arif Hussain</td>\n",
              "      <td>410</td>\n",
              "      <td>32</td>\n",
              "      <td>11</td>\n",
              "      <td>91</td>\n",
              "    </tr>\n",
              "    <tr>\n",
              "      <th>2</th>\n",
              "      <td>137</td>\n",
              "      <td>463</td>\n",
              "      <td>Nizakat Khan</td>\n",
              "      <td>161</td>\n",
              "      <td>57</td>\n",
              "      <td>11</td>\n",
              "      <td>8</td>\n",
              "    </tr>\n",
              "    <tr>\n",
              "      <th>3</th>\n",
              "      <td>264</td>\n",
              "      <td>42</td>\n",
              "      <td>Ahmed Faiz Mohammad Noor</td>\n",
              "      <td>377</td>\n",
              "      <td>57</td>\n",
              "      <td>11</td>\n",
              "      <td>8</td>\n",
              "    </tr>\n",
              "    <tr>\n",
              "      <th>4</th>\n",
              "      <td>265</td>\n",
              "      <td>451</td>\n",
              "      <td>Hashmatullah Shahidi</td>\n",
              "      <td>281</td>\n",
              "      <td>73</td>\n",
              "      <td>11</td>\n",
              "      <td>93</td>\n",
              "    </tr>\n",
              "    <tr>\n",
              "      <th>...</th>\n",
              "      <td>...</td>\n",
              "      <td>...</td>\n",
              "      <td>...</td>\n",
              "      <td>...</td>\n",
              "      <td>...</td>\n",
              "      <td>...</td>\n",
              "      <td>...</td>\n",
              "    </tr>\n",
              "    <tr>\n",
              "      <th>1900</th>\n",
              "      <td>372</td>\n",
              "      <td>470</td>\n",
              "      <td>Arif Hussain</td>\n",
              "      <td>198</td>\n",
              "      <td>28</td>\n",
              "      <td>11</td>\n",
              "      <td>5</td>\n",
              "    </tr>\n",
              "    <tr>\n",
              "      <th>1901</th>\n",
              "      <td>38</td>\n",
              "      <td>412</td>\n",
              "      <td>Khurram Khan</td>\n",
              "      <td>360</td>\n",
              "      <td>28</td>\n",
              "      <td>11</td>\n",
              "      <td>5</td>\n",
              "    </tr>\n",
              "    <tr>\n",
              "      <th>1902</th>\n",
              "      <td>265</td>\n",
              "      <td>451</td>\n",
              "      <td>Rahmat Shah</td>\n",
              "      <td>375</td>\n",
              "      <td>28</td>\n",
              "      <td>11</td>\n",
              "      <td>5</td>\n",
              "    </tr>\n",
              "    <tr>\n",
              "      <th>1903</th>\n",
              "      <td>41</td>\n",
              "      <td>432</td>\n",
              "      <td>Ahmed Faiz Mohammad Noor</td>\n",
              "      <td>282</td>\n",
              "      <td>57</td>\n",
              "      <td>11</td>\n",
              "      <td>8</td>\n",
              "    </tr>\n",
              "    <tr>\n",
              "      <th>1904</th>\n",
              "      <td>372</td>\n",
              "      <td>470</td>\n",
              "      <td>Khawar Ali</td>\n",
              "      <td>410</td>\n",
              "      <td>57</td>\n",
              "      <td>11</td>\n",
              "      <td>8</td>\n",
              "    </tr>\n",
              "  </tbody>\n",
              "</table>\n",
              "<p>1905 rows × 7 columns</p>\n",
              "</div>"
            ],
            "text/plain": [
              "      Players_1  Players_2                 Players_3  ...  Team1  Season  Venue\n",
              "0           137        428               JJ Atkinson  ...     42      11    210\n",
              "1           372        470              Arif Hussain  ...     32      11     91\n",
              "2           137        463              Nizakat Khan  ...     57      11      8\n",
              "3           264         42  Ahmed Faiz Mohammad Noor  ...     57      11      8\n",
              "4           265        451      Hashmatullah Shahidi  ...     73      11     93\n",
              "...         ...        ...                       ...  ...    ...     ...    ...\n",
              "1900        372        470              Arif Hussain  ...     28      11      5\n",
              "1901         38        412              Khurram Khan  ...     28      11      5\n",
              "1902        265        451               Rahmat Shah  ...     28      11      5\n",
              "1903         41        432  Ahmed Faiz Mohammad Noor  ...     57      11      8\n",
              "1904        372        470                Khawar Ali  ...     57      11      8\n",
              "\n",
              "[1905 rows x 7 columns]"
            ]
          },
          "metadata": {
            "tags": []
          },
          "execution_count": 108
        }
      ]
    },
    {
      "cell_type": "code",
      "metadata": {
        "colab": {
          "base_uri": "https://localhost:8080/",
          "height": 0
        },
        "id": "gK0Gzhk-90N3",
        "outputId": "1b0e0ef0-0603-48a5-ff65-e3c56e940abd"
      },
      "source": [
        "clean_P3=P3.groupby('Players_3').filter(lambda z: len(z)>5)\n",
        "clean_P3.shape"
      ],
      "execution_count": 109,
      "outputs": [
        {
          "output_type": "execute_result",
          "data": {
            "text/plain": [
              "(1131, 7)"
            ]
          },
          "metadata": {
            "tags": []
          },
          "execution_count": 109
        }
      ]
    },
    {
      "cell_type": "code",
      "metadata": {
        "id": "TnXk1T8S90KG"
      },
      "source": [
        "from sklearn.model_selection import train_test_split\n",
        "Y=clean_P3.pop('Players_3')\n",
        "X=clean_P3\n",
        "X_train,X_test,y_train,y_test = train_test_split(X,Y,test_size=0.21,random_state=3)"
      ],
      "execution_count": 110,
      "outputs": []
    },
    {
      "cell_type": "code",
      "metadata": {
        "id": "qFzJb5jI90E8"
      },
      "source": [
        "from sklearn.tree import DecisionTreeClassifier\n",
        "classifier = DecisionTreeClassifier()\n",
        "classifier = classifier.fit(X_train,y_train)"
      ],
      "execution_count": 111,
      "outputs": []
    },
    {
      "cell_type": "code",
      "metadata": {
        "id": "Gd5Dejak9z3Z"
      },
      "source": [
        "y_pred_3 = classifier.predict(X_test)"
      ],
      "execution_count": 112,
      "outputs": []
    },
    {
      "cell_type": "code",
      "metadata": {
        "colab": {
          "base_uri": "https://localhost:8080/",
          "height": 0
        },
        "id": "y6aNxKDE9zwa",
        "outputId": "c129d7ec-16e1-4e45-907e-7d827fd5782d"
      },
      "source": [
        "accuracy3=round(metrics.accuracy_score(y_test, y_pred_3)*100,0)\n",
        "acc_list.append(accuracy3)\n",
        "print(\"Accuracy of the model:\", accuracy3)"
      ],
      "execution_count": 115,
      "outputs": [
        {
          "output_type": "stream",
          "text": [
            "Accuracy of the model: 52.0\n"
          ],
          "name": "stdout"
        }
      ]
    },
    {
      "cell_type": "markdown",
      "metadata": {
        "id": "vLBHqiIfkpx0"
      },
      "source": [
        "For predicting Player 3, I have also used the value which was predicted in player 1 and Player2.\n",
        "Also, Predicting Player 2 Who have played with AM Rahane Murili Vijay, KL Rahul in India in Wankhede Stadium in 2019 Encoded Values for Input variables are:\n",
        "\n",
        "1. Player 1(AM Rahane)=23(Predicted Value)\n",
        "2. Player 2(M Vijay)=121(Predicted Value)\n",
        "3. Player 4(KL Rahul)=229 \n",
        "4. India encoding: 27\n",
        "5. 2019:14\n",
        "6. wankhede 214  "
      ]
    },
    {
      "cell_type": "code",
      "metadata": {
        "colab": {
          "base_uri": "https://localhost:8080/",
          "height": 0
        },
        "id": "GUWy8rxJBzLm",
        "outputId": "91edd864-75c5-486e-9f55-32f48018ccb0"
      },
      "source": [
        "classifier.predict([[23,121,407,27,14,214]])"
      ],
      "execution_count": 116,
      "outputs": [
        {
          "output_type": "execute_result",
          "data": {
            "text/plain": [
              "array(['AT Rayudu'], dtype=object)"
            ]
          },
          "metadata": {
            "tags": []
          },
          "execution_count": 116
        }
      ]
    },
    {
      "cell_type": "markdown",
      "metadata": {
        "id": "Na8NgLSFHy7H"
      },
      "source": [
        "**PLAYER 3= AT Rayudu**"
      ]
    },
    {
      "cell_type": "markdown",
      "metadata": {
        "id": "hH9w9NWBH_UF"
      },
      "source": [
        "### **Prediction for Player-4**"
      ]
    },
    {
      "cell_type": "code",
      "metadata": {
        "id": "tqT8q4hqH--i",
        "colab": {
          "base_uri": "https://localhost:8080/",
          "height": 417
        },
        "outputId": "54c3e8bf-c0d1-44a8-c612-e8eb4db822cd"
      },
      "source": [
        "from sklearn.preprocessing import LabelEncoder\n",
        "P4 = match_merged[['Players_1','Players_2','Players_3','Players_4','Players_5','Team1','Season','Venue']].copy()\n",
        "var4 = ['Team1','Venue','Season','Players_1','Players_2','Players_3','Players_5']\n",
        "l = LabelEncoder()\n",
        "for i in var4:\n",
        "    P4[i] = l.fit_transform(P4[i])\n",
        "P4"
      ],
      "execution_count": 173,
      "outputs": [
        {
          "output_type": "execute_result",
          "data": {
            "text/html": [
              "<div>\n",
              "<style scoped>\n",
              "    .dataframe tbody tr th:only-of-type {\n",
              "        vertical-align: middle;\n",
              "    }\n",
              "\n",
              "    .dataframe tbody tr th {\n",
              "        vertical-align: top;\n",
              "    }\n",
              "\n",
              "    .dataframe thead th {\n",
              "        text-align: right;\n",
              "    }\n",
              "</style>\n",
              "<table border=\"1\" class=\"dataframe\">\n",
              "  <thead>\n",
              "    <tr style=\"text-align: right;\">\n",
              "      <th></th>\n",
              "      <th>Players_1</th>\n",
              "      <th>Players_2</th>\n",
              "      <th>Players_3</th>\n",
              "      <th>Players_4</th>\n",
              "      <th>Players_5</th>\n",
              "      <th>Team1</th>\n",
              "      <th>Season</th>\n",
              "      <th>Venue</th>\n",
              "    </tr>\n",
              "  </thead>\n",
              "  <tbody>\n",
              "    <tr>\n",
              "      <th>0</th>\n",
              "      <td>137</td>\n",
              "      <td>428</td>\n",
              "      <td>192</td>\n",
              "      <td>Nizakat Khan</td>\n",
              "      <td>64</td>\n",
              "      <td>42</td>\n",
              "      <td>11</td>\n",
              "      <td>210</td>\n",
              "    </tr>\n",
              "    <tr>\n",
              "      <th>1</th>\n",
              "      <td>372</td>\n",
              "      <td>470</td>\n",
              "      <td>52</td>\n",
              "      <td>VS Wategaonkar</td>\n",
              "      <td>235</td>\n",
              "      <td>32</td>\n",
              "      <td>11</td>\n",
              "      <td>91</td>\n",
              "    </tr>\n",
              "    <tr>\n",
              "      <th>2</th>\n",
              "      <td>137</td>\n",
              "      <td>463</td>\n",
              "      <td>338</td>\n",
              "      <td>JJ Atkinson</td>\n",
              "      <td>64</td>\n",
              "      <td>57</td>\n",
              "      <td>11</td>\n",
              "      <td>8</td>\n",
              "    </tr>\n",
              "    <tr>\n",
              "      <th>3</th>\n",
              "      <td>264</td>\n",
              "      <td>42</td>\n",
              "      <td>47</td>\n",
              "      <td>Shafiq Sharif</td>\n",
              "      <td>448</td>\n",
              "      <td>57</td>\n",
              "      <td>11</td>\n",
              "      <td>8</td>\n",
              "    </tr>\n",
              "    <tr>\n",
              "      <th>4</th>\n",
              "      <td>265</td>\n",
              "      <td>451</td>\n",
              "      <td>166</td>\n",
              "      <td>Nasir Jamal</td>\n",
              "      <td>430</td>\n",
              "      <td>73</td>\n",
              "      <td>11</td>\n",
              "      <td>93</td>\n",
              "    </tr>\n",
              "    <tr>\n",
              "      <th>...</th>\n",
              "      <td>...</td>\n",
              "      <td>...</td>\n",
              "      <td>...</td>\n",
              "      <td>...</td>\n",
              "      <td>...</td>\n",
              "      <td>...</td>\n",
              "      <td>...</td>\n",
              "      <td>...</td>\n",
              "    </tr>\n",
              "    <tr>\n",
              "      <th>1900</th>\n",
              "      <td>372</td>\n",
              "      <td>470</td>\n",
              "      <td>52</td>\n",
              "      <td>Khawar Ali</td>\n",
              "      <td>471</td>\n",
              "      <td>28</td>\n",
              "      <td>11</td>\n",
              "      <td>5</td>\n",
              "    </tr>\n",
              "    <tr>\n",
              "      <th>1901</th>\n",
              "      <td>38</td>\n",
              "      <td>412</td>\n",
              "      <td>239</td>\n",
              "      <td>SP Patil</td>\n",
              "      <td>440</td>\n",
              "      <td>28</td>\n",
              "      <td>11</td>\n",
              "      <td>5</td>\n",
              "    </tr>\n",
              "    <tr>\n",
              "      <th>1902</th>\n",
              "      <td>265</td>\n",
              "      <td>451</td>\n",
              "      <td>380</td>\n",
              "      <td>Samiullah Shenwari</td>\n",
              "      <td>175</td>\n",
              "      <td>28</td>\n",
              "      <td>11</td>\n",
              "      <td>5</td>\n",
              "    </tr>\n",
              "    <tr>\n",
              "      <th>1903</th>\n",
              "      <td>41</td>\n",
              "      <td>432</td>\n",
              "      <td>47</td>\n",
              "      <td>Nasir Shafiq</td>\n",
              "      <td>434</td>\n",
              "      <td>57</td>\n",
              "      <td>11</td>\n",
              "      <td>8</td>\n",
              "    </tr>\n",
              "    <tr>\n",
              "      <th>1904</th>\n",
              "      <td>372</td>\n",
              "      <td>470</td>\n",
              "      <td>238</td>\n",
              "      <td>VS Wategaonkar</td>\n",
              "      <td>43</td>\n",
              "      <td>57</td>\n",
              "      <td>11</td>\n",
              "      <td>8</td>\n",
              "    </tr>\n",
              "  </tbody>\n",
              "</table>\n",
              "<p>1905 rows × 8 columns</p>\n",
              "</div>"
            ],
            "text/plain": [
              "      Players_1  Players_2  Players_3  ... Team1  Season  Venue\n",
              "0           137        428        192  ...    42      11    210\n",
              "1           372        470         52  ...    32      11     91\n",
              "2           137        463        338  ...    57      11      8\n",
              "3           264         42         47  ...    57      11      8\n",
              "4           265        451        166  ...    73      11     93\n",
              "...         ...        ...        ...  ...   ...     ...    ...\n",
              "1900        372        470         52  ...    28      11      5\n",
              "1901         38        412        239  ...    28      11      5\n",
              "1902        265        451        380  ...    28      11      5\n",
              "1903         41        432         47  ...    57      11      8\n",
              "1904        372        470        238  ...    57      11      8\n",
              "\n",
              "[1905 rows x 8 columns]"
            ]
          },
          "metadata": {
            "tags": []
          },
          "execution_count": 173
        }
      ]
    },
    {
      "cell_type": "code",
      "metadata": {
        "id": "qICrrSmXBzEt",
        "colab": {
          "base_uri": "https://localhost:8080/",
          "height": 0
        },
        "outputId": "a0e9a5fa-523d-4f7b-90d8-bd7e2c7ec4cc"
      },
      "source": [
        "clean_P4=P4.groupby('Players_4').filter(lambda a: len(a)>5)\n",
        "clean_P4.shape"
      ],
      "execution_count": 174,
      "outputs": [
        {
          "output_type": "execute_result",
          "data": {
            "text/plain": [
              "(1246, 8)"
            ]
          },
          "metadata": {
            "tags": []
          },
          "execution_count": 174
        }
      ]
    },
    {
      "cell_type": "code",
      "metadata": {
        "id": "2OXZQhgVBy9F"
      },
      "source": [
        "from sklearn.model_selection import train_test_split\n",
        "Y=clean_P4.pop('Players_4')\n",
        "X=clean_P4\n",
        "X_train,X_test,y_train,y_test = train_test_split(X,Y,test_size=0.21,random_state=2)"
      ],
      "execution_count": 175,
      "outputs": []
    },
    {
      "cell_type": "code",
      "metadata": {
        "id": "Rj4x9N8-lwtB"
      },
      "source": [
        "from sklearn.tree import DecisionTreeClassifier\n",
        "classifier = DecisionTreeClassifier()\n",
        "classifier = classifier.fit(X_train,y_train)"
      ],
      "execution_count": 176,
      "outputs": []
    },
    {
      "cell_type": "code",
      "metadata": {
        "id": "qspUppq8lwoZ"
      },
      "source": [
        "y_pred_4 = classifier.predict(X_test)"
      ],
      "execution_count": 177,
      "outputs": []
    },
    {
      "cell_type": "code",
      "metadata": {
        "colab": {
          "base_uri": "https://localhost:8080/",
          "height": 0
        },
        "id": "71rbVlSclwlf",
        "outputId": "76049ba3-df66-4c02-86cf-cefc5ea06f64"
      },
      "source": [
        "accuracy4=round(metrics.accuracy_score(y_test, y_pred_4)*100,0)\n",
        "acc_list.append(accuracy4)\n",
        "print(\"Accuracy of the model:\", accuracy4)"
      ],
      "execution_count": 179,
      "outputs": [
        {
          "output_type": "stream",
          "text": [
            "Accuracy of the model: 49.0\n"
          ],
          "name": "stdout"
        }
      ]
    },
    {
      "cell_type": "markdown",
      "metadata": {
        "id": "6THVc9fems52"
      },
      "source": [
        "For predicting Player 4, I have also used the value which was predicted in player 1, Player2,Player3.\n",
        "Also, Predicting Player 4 Who have played with AM Rahane Murili Vijay,AT Rayudu, KL Rahul in India in Wankhede Stadium in 2019 Encoded Values for Input variables are:\n",
        "\n",
        "1. Player 1(AM Rahane)=23(Predicted Value)\n",
        "2. Player 2(M Vijay)=121(Predicted Value)\n",
        "3. Player 3(AT Rayudu)=42(Predicted Value)\n",
        "4. Player 5(KL Rahul)=407 \n",
        "5. India encoding: 27\n",
        "6. 2019:14\n",
        "7. wankhede 214  "
      ]
    },
    {
      "cell_type": "code",
      "metadata": {
        "colab": {
          "base_uri": "https://localhost:8080/",
          "height": 0
        },
        "id": "ktI0X5NYlwiD",
        "outputId": "a1e60fec-1068-4909-bdb3-74d39ee64c50"
      },
      "source": [
        "classifier.predict([[23,121,42,407,27,14,214]])"
      ],
      "execution_count": 187,
      "outputs": [
        {
          "output_type": "execute_result",
          "data": {
            "text/plain": [
              "array(['V Kohli'], dtype=object)"
            ]
          },
          "metadata": {
            "tags": []
          },
          "execution_count": 187
        }
      ]
    },
    {
      "cell_type": "markdown",
      "metadata": {
        "id": "S9Jw8A3noXX2"
      },
      "source": [
        "**PLAYER 4= V Kohli**"
      ]
    },
    {
      "cell_type": "markdown",
      "metadata": {
        "id": "drCN5bG7ofAz"
      },
      "source": [
        "### **Prediction for Player-5**"
      ]
    },
    {
      "cell_type": "code",
      "metadata": {
        "colab": {
          "base_uri": "https://localhost:8080/",
          "height": 417
        },
        "id": "GEgPZrO1og2k",
        "outputId": "a3841ff6-fb3b-4e26-b335-98f479d1564f"
      },
      "source": [
        "from sklearn.preprocessing import LabelEncoder\n",
        "P5 = match_merged[['Players_1','Players_2','Players_3','Players_4','Players_5','Players_6','Team1','Season','Venue']].copy()\n",
        "var5 = ['Team1','Venue','Season','Players_1','Players_2','Players_3','Players_4','Players_6']\n",
        "l = LabelEncoder()\n",
        "for i in var5:\n",
        "    P5[i] = l.fit_transform(P5[i])\n",
        "P5"
      ],
      "execution_count": 237,
      "outputs": [
        {
          "output_type": "execute_result",
          "data": {
            "text/html": [
              "<div>\n",
              "<style scoped>\n",
              "    .dataframe tbody tr th:only-of-type {\n",
              "        vertical-align: middle;\n",
              "    }\n",
              "\n",
              "    .dataframe tbody tr th {\n",
              "        vertical-align: top;\n",
              "    }\n",
              "\n",
              "    .dataframe thead th {\n",
              "        text-align: right;\n",
              "    }\n",
              "</style>\n",
              "<table border=\"1\" class=\"dataframe\">\n",
              "  <thead>\n",
              "    <tr style=\"text-align: right;\">\n",
              "      <th></th>\n",
              "      <th>Players_1</th>\n",
              "      <th>Players_2</th>\n",
              "      <th>Players_3</th>\n",
              "      <th>Players_4</th>\n",
              "      <th>Players_5</th>\n",
              "      <th>Players_6</th>\n",
              "      <th>Team1</th>\n",
              "      <th>Season</th>\n",
              "      <th>Venue</th>\n",
              "    </tr>\n",
              "  </thead>\n",
              "  <tbody>\n",
              "    <tr>\n",
              "      <th>0</th>\n",
              "      <td>137</td>\n",
              "      <td>428</td>\n",
              "      <td>192</td>\n",
              "      <td>286</td>\n",
              "      <td>Babar Hayat</td>\n",
              "      <td>577</td>\n",
              "      <td>42</td>\n",
              "      <td>11</td>\n",
              "      <td>210</td>\n",
              "    </tr>\n",
              "    <tr>\n",
              "      <th>1</th>\n",
              "      <td>372</td>\n",
              "      <td>470</td>\n",
              "      <td>52</td>\n",
              "      <td>410</td>\n",
              "      <td>Khawar Ali</td>\n",
              "      <td>46</td>\n",
              "      <td>32</td>\n",
              "      <td>11</td>\n",
              "      <td>91</td>\n",
              "    </tr>\n",
              "    <tr>\n",
              "      <th>2</th>\n",
              "      <td>137</td>\n",
              "      <td>463</td>\n",
              "      <td>338</td>\n",
              "      <td>161</td>\n",
              "      <td>Babar Hayat</td>\n",
              "      <td>58</td>\n",
              "      <td>57</td>\n",
              "      <td>11</td>\n",
              "      <td>8</td>\n",
              "    </tr>\n",
              "    <tr>\n",
              "      <th>3</th>\n",
              "      <td>264</td>\n",
              "      <td>42</td>\n",
              "      <td>47</td>\n",
              "      <td>377</td>\n",
              "      <td>Suhan Alagaratnam</td>\n",
              "      <td>537</td>\n",
              "      <td>57</td>\n",
              "      <td>11</td>\n",
              "      <td>8</td>\n",
              "    </tr>\n",
              "    <tr>\n",
              "      <th>4</th>\n",
              "      <td>265</td>\n",
              "      <td>451</td>\n",
              "      <td>166</td>\n",
              "      <td>281</td>\n",
              "      <td>Samiullah Shenwari</td>\n",
              "      <td>362</td>\n",
              "      <td>73</td>\n",
              "      <td>11</td>\n",
              "      <td>93</td>\n",
              "    </tr>\n",
              "    <tr>\n",
              "      <th>...</th>\n",
              "      <td>...</td>\n",
              "      <td>...</td>\n",
              "      <td>...</td>\n",
              "      <td>...</td>\n",
              "      <td>...</td>\n",
              "      <td>...</td>\n",
              "      <td>...</td>\n",
              "      <td>...</td>\n",
              "      <td>...</td>\n",
              "    </tr>\n",
              "    <tr>\n",
              "      <th>1900</th>\n",
              "      <td>372</td>\n",
              "      <td>470</td>\n",
              "      <td>52</td>\n",
              "      <td>198</td>\n",
              "      <td>VS Wategaonkar</td>\n",
              "      <td>538</td>\n",
              "      <td>28</td>\n",
              "      <td>11</td>\n",
              "      <td>5</td>\n",
              "    </tr>\n",
              "    <tr>\n",
              "      <th>1901</th>\n",
              "      <td>38</td>\n",
              "      <td>412</td>\n",
              "      <td>239</td>\n",
              "      <td>360</td>\n",
              "      <td>Shaiman Anwar</td>\n",
              "      <td>291</td>\n",
              "      <td>28</td>\n",
              "      <td>11</td>\n",
              "      <td>5</td>\n",
              "    </tr>\n",
              "    <tr>\n",
              "      <th>1902</th>\n",
              "      <td>265</td>\n",
              "      <td>451</td>\n",
              "      <td>380</td>\n",
              "      <td>375</td>\n",
              "      <td>Hashmatullah Shahidi</td>\n",
              "      <td>362</td>\n",
              "      <td>28</td>\n",
              "      <td>11</td>\n",
              "      <td>5</td>\n",
              "    </tr>\n",
              "    <tr>\n",
              "      <th>1903</th>\n",
              "      <td>41</td>\n",
              "      <td>432</td>\n",
              "      <td>47</td>\n",
              "      <td>282</td>\n",
              "      <td>Shafiq Sharif</td>\n",
              "      <td>290</td>\n",
              "      <td>57</td>\n",
              "      <td>11</td>\n",
              "      <td>8</td>\n",
              "    </tr>\n",
              "    <tr>\n",
              "      <th>1904</th>\n",
              "      <td>372</td>\n",
              "      <td>470</td>\n",
              "      <td>238</td>\n",
              "      <td>410</td>\n",
              "      <td>Arif Hussain</td>\n",
              "      <td>44</td>\n",
              "      <td>57</td>\n",
              "      <td>11</td>\n",
              "      <td>8</td>\n",
              "    </tr>\n",
              "  </tbody>\n",
              "</table>\n",
              "<p>1905 rows × 9 columns</p>\n",
              "</div>"
            ],
            "text/plain": [
              "      Players_1  Players_2  Players_3  ...  Team1 Season  Venue\n",
              "0           137        428        192  ...     42     11    210\n",
              "1           372        470         52  ...     32     11     91\n",
              "2           137        463        338  ...     57     11      8\n",
              "3           264         42         47  ...     57     11      8\n",
              "4           265        451        166  ...     73     11     93\n",
              "...         ...        ...        ...  ...    ...    ...    ...\n",
              "1900        372        470         52  ...     28     11      5\n",
              "1901         38        412        239  ...     28     11      5\n",
              "1902        265        451        380  ...     28     11      5\n",
              "1903         41        432         47  ...     57     11      8\n",
              "1904        372        470        238  ...     57     11      8\n",
              "\n",
              "[1905 rows x 9 columns]"
            ]
          },
          "metadata": {
            "tags": []
          },
          "execution_count": 237
        }
      ]
    },
    {
      "cell_type": "code",
      "metadata": {
        "colab": {
          "base_uri": "https://localhost:8080/",
          "height": 0
        },
        "id": "-G_tIoUDogzB",
        "outputId": "6b0b3f3b-6482-4edf-ea01-0ca49c229af9"
      },
      "source": [
        "clean_P5=P5.groupby('Players_5').filter(lambda b: len(b)>5)\n",
        "clean_P5.shape"
      ],
      "execution_count": 238,
      "outputs": [
        {
          "output_type": "execute_result",
          "data": {
            "text/plain": [
              "(1165, 9)"
            ]
          },
          "metadata": {
            "tags": []
          },
          "execution_count": 238
        }
      ]
    },
    {
      "cell_type": "code",
      "metadata": {
        "id": "4Hv1ZhP6ogvR"
      },
      "source": [
        "from sklearn.model_selection import train_test_split\n",
        "Y=clean_P5.pop('Players_5')\n",
        "X=clean_P5\n",
        "X_train,X_test,y_train,y_test = train_test_split(X,Y,test_size=0.21,random_state=1)"
      ],
      "execution_count": 239,
      "outputs": []
    },
    {
      "cell_type": "code",
      "metadata": {
        "id": "-N0Ax352ogtZ"
      },
      "source": [
        "from sklearn.tree import DecisionTreeClassifier\n",
        "classifier = DecisionTreeClassifier()\n",
        "classifier = classifier.fit(X_train,y_train)"
      ],
      "execution_count": 240,
      "outputs": []
    },
    {
      "cell_type": "code",
      "metadata": {
        "id": "HW_EWVPyogmG"
      },
      "source": [
        "y_pred_5 = classifier.predict(X_test)"
      ],
      "execution_count": 241,
      "outputs": []
    },
    {
      "cell_type": "code",
      "metadata": {
        "colab": {
          "base_uri": "https://localhost:8080/",
          "height": 0
        },
        "id": "L4gzY1_-lweI",
        "outputId": "a43fc497-5282-468f-a43d-7b1784898269"
      },
      "source": [
        "accuracy5=round(metrics.accuracy_score(y_test, y_pred_5)*100,0)\n",
        "acc_list.append(accuracy5)\n",
        "print(\"Accuracy of the model:\", accuracy5)"
      ],
      "execution_count": 243,
      "outputs": [
        {
          "output_type": "stream",
          "text": [
            "Accuracy of the model: 40.0\n"
          ],
          "name": "stdout"
        }
      ]
    },
    {
      "cell_type": "markdown",
      "metadata": {
        "id": "KczCih3Spqir"
      },
      "source": [
        "For predicting Player 5, I have also used the value which was predicted in player 1, Player2,Player3, Player4.\n",
        "Also, Predicting Player 5 Who have played with AM Rahane Murili Vijay,AT Rayudu,V Kohli, KL Rahul in India in Wankhede Stadium in 2019 Encoded Values for Input variables are:\n",
        "\n",
        "1. Player 1(AM Rahane)=23(Predicted Value)\n",
        "2. Player 2(M Vijay)=121(Predicted Value)\n",
        "3. Player 3(AT Rayudu)=42(Predicted Value)\n",
        "4. Player 4(V Kohli)=406(Predicted Value)\n",
        "5. Player 5(KL Rahul)=407 \n",
        "6. India encoding: 27\n",
        "7. 2019:14\n",
        "8. wankhede 214  "
      ]
    },
    {
      "cell_type": "code",
      "metadata": {
        "colab": {
          "base_uri": "https://localhost:8080/",
          "height": 0
        },
        "id": "SB3nrkwIr8oH",
        "outputId": "e9230fcf-12d0-48e2-fef6-41606287f162"
      },
      "source": [
        "classifier.predict([[23,121,42,406,407,27,14,214]])"
      ],
      "execution_count": 246,
      "outputs": [
        {
          "output_type": "execute_result",
          "data": {
            "text/plain": [
              "array(['SK Raina'], dtype=object)"
            ]
          },
          "metadata": {
            "tags": []
          },
          "execution_count": 246
        }
      ]
    },
    {
      "cell_type": "markdown",
      "metadata": {
        "id": "4IjRe7Z2skNy"
      },
      "source": [
        "**PLAYER 5= SK Raina**"
      ]
    },
    {
      "cell_type": "markdown",
      "metadata": {
        "id": "E01Xohvjvj8M"
      },
      "source": [
        "### **Prediction for Player-6**"
      ]
    },
    {
      "cell_type": "code",
      "metadata": {
        "colab": {
          "base_uri": "https://localhost:8080/",
          "height": 417
        },
        "id": "O6SMuZPNstdk",
        "outputId": "7831049e-4fa5-43bd-a9a8-e407279f0f3b"
      },
      "source": [
        "from sklearn.preprocessing import LabelEncoder\n",
        "P6 = match_merged[['Players_1','Players_2','Players_3','Players_4','Players_5','Players_6','Team1','Season','Venue']].copy()\n",
        "var6 = ['Team1','Venue','Season','Players_1','Players_2','Players_3','Players_4','Players_5']\n",
        "l = LabelEncoder()\n",
        "for i in var6:\n",
        "    P6[i] = l.fit_transform(P6[i])\n",
        "P6"
      ],
      "execution_count": 247,
      "outputs": [
        {
          "output_type": "execute_result",
          "data": {
            "text/html": [
              "<div>\n",
              "<style scoped>\n",
              "    .dataframe tbody tr th:only-of-type {\n",
              "        vertical-align: middle;\n",
              "    }\n",
              "\n",
              "    .dataframe tbody tr th {\n",
              "        vertical-align: top;\n",
              "    }\n",
              "\n",
              "    .dataframe thead th {\n",
              "        text-align: right;\n",
              "    }\n",
              "</style>\n",
              "<table border=\"1\" class=\"dataframe\">\n",
              "  <thead>\n",
              "    <tr style=\"text-align: right;\">\n",
              "      <th></th>\n",
              "      <th>Players_1</th>\n",
              "      <th>Players_2</th>\n",
              "      <th>Players_3</th>\n",
              "      <th>Players_4</th>\n",
              "      <th>Players_5</th>\n",
              "      <th>Players_6</th>\n",
              "      <th>Team1</th>\n",
              "      <th>Season</th>\n",
              "      <th>Venue</th>\n",
              "    </tr>\n",
              "  </thead>\n",
              "  <tbody>\n",
              "    <tr>\n",
              "      <th>0</th>\n",
              "      <td>137</td>\n",
              "      <td>428</td>\n",
              "      <td>192</td>\n",
              "      <td>286</td>\n",
              "      <td>64</td>\n",
              "      <td>Waqas Barkat</td>\n",
              "      <td>42</td>\n",
              "      <td>11</td>\n",
              "      <td>210</td>\n",
              "    </tr>\n",
              "    <tr>\n",
              "      <th>1</th>\n",
              "      <td>372</td>\n",
              "      <td>470</td>\n",
              "      <td>52</td>\n",
              "      <td>410</td>\n",
              "      <td>235</td>\n",
              "      <td>Aamir Kaleem</td>\n",
              "      <td>32</td>\n",
              "      <td>11</td>\n",
              "      <td>91</td>\n",
              "    </tr>\n",
              "    <tr>\n",
              "      <th>2</th>\n",
              "      <td>137</td>\n",
              "      <td>463</td>\n",
              "      <td>338</td>\n",
              "      <td>161</td>\n",
              "      <td>64</td>\n",
              "      <td>Ankur Sharma</td>\n",
              "      <td>57</td>\n",
              "      <td>11</td>\n",
              "      <td>8</td>\n",
              "    </tr>\n",
              "    <tr>\n",
              "      <th>3</th>\n",
              "      <td>264</td>\n",
              "      <td>42</td>\n",
              "      <td>47</td>\n",
              "      <td>377</td>\n",
              "      <td>448</td>\n",
              "      <td>Suharril Fetri</td>\n",
              "      <td>57</td>\n",
              "      <td>11</td>\n",
              "      <td>8</td>\n",
              "    </tr>\n",
              "    <tr>\n",
              "      <th>4</th>\n",
              "      <td>265</td>\n",
              "      <td>451</td>\n",
              "      <td>166</td>\n",
              "      <td>281</td>\n",
              "      <td>430</td>\n",
              "      <td>Mohammad Nabi</td>\n",
              "      <td>73</td>\n",
              "      <td>11</td>\n",
              "      <td>93</td>\n",
              "    </tr>\n",
              "    <tr>\n",
              "      <th>...</th>\n",
              "      <td>...</td>\n",
              "      <td>...</td>\n",
              "      <td>...</td>\n",
              "      <td>...</td>\n",
              "      <td>...</td>\n",
              "      <td>...</td>\n",
              "      <td>...</td>\n",
              "      <td>...</td>\n",
              "      <td>...</td>\n",
              "    </tr>\n",
              "    <tr>\n",
              "      <th>1900</th>\n",
              "      <td>372</td>\n",
              "      <td>470</td>\n",
              "      <td>52</td>\n",
              "      <td>198</td>\n",
              "      <td>471</td>\n",
              "      <td>Sultan Ahmed</td>\n",
              "      <td>28</td>\n",
              "      <td>11</td>\n",
              "      <td>5</td>\n",
              "    </tr>\n",
              "    <tr>\n",
              "      <th>1901</th>\n",
              "      <td>38</td>\n",
              "      <td>412</td>\n",
              "      <td>239</td>\n",
              "      <td>360</td>\n",
              "      <td>440</td>\n",
              "      <td>Krishna Chandran</td>\n",
              "      <td>28</td>\n",
              "      <td>11</td>\n",
              "      <td>5</td>\n",
              "    </tr>\n",
              "    <tr>\n",
              "      <th>1902</th>\n",
              "      <td>265</td>\n",
              "      <td>451</td>\n",
              "      <td>380</td>\n",
              "      <td>375</td>\n",
              "      <td>175</td>\n",
              "      <td>Mohammad Nabi</td>\n",
              "      <td>28</td>\n",
              "      <td>11</td>\n",
              "      <td>5</td>\n",
              "    </tr>\n",
              "    <tr>\n",
              "      <th>1903</th>\n",
              "      <td>41</td>\n",
              "      <td>432</td>\n",
              "      <td>47</td>\n",
              "      <td>282</td>\n",
              "      <td>434</td>\n",
              "      <td>Khizar Hayat</td>\n",
              "      <td>57</td>\n",
              "      <td>11</td>\n",
              "      <td>8</td>\n",
              "    </tr>\n",
              "    <tr>\n",
              "      <th>1904</th>\n",
              "      <td>372</td>\n",
              "      <td>470</td>\n",
              "      <td>238</td>\n",
              "      <td>410</td>\n",
              "      <td>43</td>\n",
              "      <td>AV Lalcheta</td>\n",
              "      <td>57</td>\n",
              "      <td>11</td>\n",
              "      <td>8</td>\n",
              "    </tr>\n",
              "  </tbody>\n",
              "</table>\n",
              "<p>1905 rows × 9 columns</p>\n",
              "</div>"
            ],
            "text/plain": [
              "      Players_1  Players_2  Players_3  ...  Team1  Season Venue\n",
              "0           137        428        192  ...     42      11   210\n",
              "1           372        470         52  ...     32      11    91\n",
              "2           137        463        338  ...     57      11     8\n",
              "3           264         42         47  ...     57      11     8\n",
              "4           265        451        166  ...     73      11    93\n",
              "...         ...        ...        ...  ...    ...     ...   ...\n",
              "1900        372        470         52  ...     28      11     5\n",
              "1901         38        412        239  ...     28      11     5\n",
              "1902        265        451        380  ...     28      11     5\n",
              "1903         41        432         47  ...     57      11     8\n",
              "1904        372        470        238  ...     57      11     8\n",
              "\n",
              "[1905 rows x 9 columns]"
            ]
          },
          "metadata": {
            "tags": []
          },
          "execution_count": 247
        }
      ]
    },
    {
      "cell_type": "code",
      "metadata": {
        "colab": {
          "base_uri": "https://localhost:8080/",
          "height": 0
        },
        "id": "SwiifIGystbi",
        "outputId": "87b7ddfc-9f5e-4770-c17f-4139c9e48fd7"
      },
      "source": [
        "clean_P6=P6.groupby('Players_6').filter(lambda b: len(b)>5)\n",
        "clean_P6.shape"
      ],
      "execution_count": 248,
      "outputs": [
        {
          "output_type": "execute_result",
          "data": {
            "text/plain": [
              "(977, 9)"
            ]
          },
          "metadata": {
            "tags": []
          },
          "execution_count": 248
        }
      ]
    },
    {
      "cell_type": "code",
      "metadata": {
        "id": "RtK3PqMBstXE"
      },
      "source": [
        "from sklearn.model_selection import train_test_split\n",
        "Y=clean_P6.pop('Players_6')\n",
        "X=clean_P6\n",
        "X_train,X_test,y_train,y_test = train_test_split(X,Y,test_size=0.21,random_state=2)"
      ],
      "execution_count": 249,
      "outputs": []
    },
    {
      "cell_type": "code",
      "metadata": {
        "id": "TRQEVlzIstTw"
      },
      "source": [
        "from sklearn.tree import DecisionTreeClassifier\n",
        "classifier = DecisionTreeClassifier()\n",
        "classifier = classifier.fit(X_train,y_train)"
      ],
      "execution_count": 250,
      "outputs": []
    },
    {
      "cell_type": "code",
      "metadata": {
        "id": "hTRZLL26stPN"
      },
      "source": [
        "y_pred_6 = classifier.predict(X_test)"
      ],
      "execution_count": 251,
      "outputs": []
    },
    {
      "cell_type": "code",
      "metadata": {
        "colab": {
          "base_uri": "https://localhost:8080/",
          "height": 0
        },
        "id": "rJmkkioBstMT",
        "outputId": "29d9b5dc-ba99-4da8-8e0c-398978fd505e"
      },
      "source": [
        "accuracy6=round(metrics.accuracy_score(y_test, y_pred_6)*100,0)\n",
        "acc_list.append(accuracy6)\n",
        "print(\"Accuracy of the model:\", accuracy6)"
      ],
      "execution_count": 253,
      "outputs": [
        {
          "output_type": "stream",
          "text": [
            "Accuracy of the model: 44.0\n"
          ],
          "name": "stdout"
        }
      ]
    },
    {
      "cell_type": "markdown",
      "metadata": {
        "id": "TwpIWJPit3QJ"
      },
      "source": [
        "For predicting Player 6, I have also used the value which was predicted in player 1, Player2,Player3, Player4, Player5.\n",
        "Also, Predicting Player 6 Who have played with AM Rahane, Murili Vijay,AT Rayudu,V Kohli,SK Raina in India in Wankhede Stadium in 2019 Encoded Values for Input variables are:\n",
        "\n",
        "1. Player 1(AM Rahane)=23(Predicted Value)\n",
        "2. Player 2(M Vijay)=121(Predicted Value)\n",
        "3. Player 3(AT Rayudu)=42(Predicted Value)\n",
        "4. Player 4(V Kohli)=406(Predicted Value)\n",
        "5. Player 5(SK Raina)=408(Predicted Value) \n",
        "6. India encoding: 27\n",
        "7. 2019:14\n",
        "8. wankhede 214  "
      ]
    },
    {
      "cell_type": "code",
      "metadata": {
        "colab": {
          "base_uri": "https://localhost:8080/",
          "height": 0
        },
        "id": "Ml6xKvELs3OQ",
        "outputId": "be0f1d9d-8f12-441f-d07e-f9fabb139d7b"
      },
      "source": [
        "classifier.predict([[23,121,42,406,408,27,14,214]])"
      ],
      "execution_count": 257,
      "outputs": [
        {
          "output_type": "execute_result",
          "data": {
            "text/plain": [
              "array(['RV Uthappa'], dtype=object)"
            ]
          },
          "metadata": {
            "tags": []
          },
          "execution_count": 257
        }
      ]
    },
    {
      "cell_type": "markdown",
      "metadata": {
        "id": "rrbzK2oKvcgz"
      },
      "source": [
        "**PLAYER 6= RV Uthappa**"
      ]
    },
    {
      "cell_type": "markdown",
      "metadata": {
        "id": "QfUa5HJGwrLx"
      },
      "source": [
        "### **Prediction for Player-7**"
      ]
    },
    {
      "cell_type": "code",
      "metadata": {
        "colab": {
          "base_uri": "https://localhost:8080/",
          "height": 417
        },
        "id": "QdLThEn9vqmI",
        "outputId": "34f42984-eac2-46c5-a807-a3d7d4be0245"
      },
      "source": [
        "from sklearn.preprocessing import LabelEncoder\n",
        "P7 = match_merged[['Players_1','Players_2','Players_3','Players_4','Players_5','Players_6','Players_7','Team1','Season','Venue']].copy()\n",
        "var7 = ['Team1','Venue','Season','Players_1','Players_2','Players_3','Players_4','Players_5','Players_6']\n",
        "l = LabelEncoder()\n",
        "for i in var7:\n",
        "    P7[i] = l.fit_transform(P7[i])\n",
        "P7"
      ],
      "execution_count": 270,
      "outputs": [
        {
          "output_type": "execute_result",
          "data": {
            "text/html": [
              "<div>\n",
              "<style scoped>\n",
              "    .dataframe tbody tr th:only-of-type {\n",
              "        vertical-align: middle;\n",
              "    }\n",
              "\n",
              "    .dataframe tbody tr th {\n",
              "        vertical-align: top;\n",
              "    }\n",
              "\n",
              "    .dataframe thead th {\n",
              "        text-align: right;\n",
              "    }\n",
              "</style>\n",
              "<table border=\"1\" class=\"dataframe\">\n",
              "  <thead>\n",
              "    <tr style=\"text-align: right;\">\n",
              "      <th></th>\n",
              "      <th>Players_1</th>\n",
              "      <th>Players_2</th>\n",
              "      <th>Players_3</th>\n",
              "      <th>Players_4</th>\n",
              "      <th>Players_5</th>\n",
              "      <th>Players_6</th>\n",
              "      <th>Players_7</th>\n",
              "      <th>Team1</th>\n",
              "      <th>Season</th>\n",
              "      <th>Venue</th>\n",
              "    </tr>\n",
              "  </thead>\n",
              "  <tbody>\n",
              "    <tr>\n",
              "      <th>0</th>\n",
              "      <td>137</td>\n",
              "      <td>428</td>\n",
              "      <td>192</td>\n",
              "      <td>286</td>\n",
              "      <td>64</td>\n",
              "      <td>577</td>\n",
              "      <td>Ankur Sharma</td>\n",
              "      <td>42</td>\n",
              "      <td>11</td>\n",
              "      <td>210</td>\n",
              "    </tr>\n",
              "    <tr>\n",
              "      <th>1</th>\n",
              "      <td>372</td>\n",
              "      <td>470</td>\n",
              "      <td>52</td>\n",
              "      <td>410</td>\n",
              "      <td>235</td>\n",
              "      <td>46</td>\n",
              "      <td>Sultan Ahmed</td>\n",
              "      <td>32</td>\n",
              "      <td>11</td>\n",
              "      <td>91</td>\n",
              "    </tr>\n",
              "    <tr>\n",
              "      <th>2</th>\n",
              "      <td>137</td>\n",
              "      <td>463</td>\n",
              "      <td>338</td>\n",
              "      <td>161</td>\n",
              "      <td>64</td>\n",
              "      <td>58</td>\n",
              "      <td>JPR Lamsam</td>\n",
              "      <td>57</td>\n",
              "      <td>11</td>\n",
              "      <td>8</td>\n",
              "    </tr>\n",
              "    <tr>\n",
              "      <th>3</th>\n",
              "      <td>264</td>\n",
              "      <td>42</td>\n",
              "      <td>47</td>\n",
              "      <td>377</td>\n",
              "      <td>448</td>\n",
              "      <td>537</td>\n",
              "      <td>Hammadullah Khan</td>\n",
              "      <td>57</td>\n",
              "      <td>11</td>\n",
              "      <td>8</td>\n",
              "    </tr>\n",
              "    <tr>\n",
              "      <th>4</th>\n",
              "      <td>265</td>\n",
              "      <td>451</td>\n",
              "      <td>166</td>\n",
              "      <td>281</td>\n",
              "      <td>430</td>\n",
              "      <td>362</td>\n",
              "      <td>Shafiqullah</td>\n",
              "      <td>73</td>\n",
              "      <td>11</td>\n",
              "      <td>93</td>\n",
              "    </tr>\n",
              "    <tr>\n",
              "      <th>...</th>\n",
              "      <td>...</td>\n",
              "      <td>...</td>\n",
              "      <td>...</td>\n",
              "      <td>...</td>\n",
              "      <td>...</td>\n",
              "      <td>...</td>\n",
              "      <td>...</td>\n",
              "      <td>...</td>\n",
              "      <td>...</td>\n",
              "      <td>...</td>\n",
              "    </tr>\n",
              "    <tr>\n",
              "      <th>1900</th>\n",
              "      <td>372</td>\n",
              "      <td>470</td>\n",
              "      <td>52</td>\n",
              "      <td>198</td>\n",
              "      <td>471</td>\n",
              "      <td>538</td>\n",
              "      <td>Aamir Kaleem</td>\n",
              "      <td>28</td>\n",
              "      <td>11</td>\n",
              "      <td>5</td>\n",
              "    </tr>\n",
              "    <tr>\n",
              "      <th>1901</th>\n",
              "      <td>38</td>\n",
              "      <td>412</td>\n",
              "      <td>239</td>\n",
              "      <td>360</td>\n",
              "      <td>440</td>\n",
              "      <td>291</td>\n",
              "      <td>Mohammad Shahzad (2)</td>\n",
              "      <td>28</td>\n",
              "      <td>11</td>\n",
              "      <td>5</td>\n",
              "    </tr>\n",
              "    <tr>\n",
              "      <th>1902</th>\n",
              "      <td>265</td>\n",
              "      <td>451</td>\n",
              "      <td>380</td>\n",
              "      <td>375</td>\n",
              "      <td>175</td>\n",
              "      <td>362</td>\n",
              "      <td>Shafiqullah</td>\n",
              "      <td>28</td>\n",
              "      <td>11</td>\n",
              "      <td>5</td>\n",
              "    </tr>\n",
              "    <tr>\n",
              "      <th>1903</th>\n",
              "      <td>41</td>\n",
              "      <td>432</td>\n",
              "      <td>47</td>\n",
              "      <td>282</td>\n",
              "      <td>434</td>\n",
              "      <td>290</td>\n",
              "      <td>Suharril Fetri</td>\n",
              "      <td>57</td>\n",
              "      <td>11</td>\n",
              "      <td>8</td>\n",
              "    </tr>\n",
              "    <tr>\n",
              "      <th>1904</th>\n",
              "      <td>372</td>\n",
              "      <td>470</td>\n",
              "      <td>238</td>\n",
              "      <td>410</td>\n",
              "      <td>43</td>\n",
              "      <td>44</td>\n",
              "      <td>Aamir Kaleem</td>\n",
              "      <td>57</td>\n",
              "      <td>11</td>\n",
              "      <td>8</td>\n",
              "    </tr>\n",
              "  </tbody>\n",
              "</table>\n",
              "<p>1905 rows × 10 columns</p>\n",
              "</div>"
            ],
            "text/plain": [
              "      Players_1  Players_2  Players_3  ...  Team1  Season  Venue\n",
              "0           137        428        192  ...     42      11    210\n",
              "1           372        470         52  ...     32      11     91\n",
              "2           137        463        338  ...     57      11      8\n",
              "3           264         42         47  ...     57      11      8\n",
              "4           265        451        166  ...     73      11     93\n",
              "...         ...        ...        ...  ...    ...     ...    ...\n",
              "1900        372        470         52  ...     28      11      5\n",
              "1901         38        412        239  ...     28      11      5\n",
              "1902        265        451        380  ...     28      11      5\n",
              "1903         41        432         47  ...     57      11      8\n",
              "1904        372        470        238  ...     57      11      8\n",
              "\n",
              "[1905 rows x 10 columns]"
            ]
          },
          "metadata": {
            "tags": []
          },
          "execution_count": 270
        }
      ]
    },
    {
      "cell_type": "code",
      "metadata": {
        "colab": {
          "base_uri": "https://localhost:8080/",
          "height": 0
        },
        "id": "V0c9u3TOvqjt",
        "outputId": "f9d11c8b-1734-431c-b3af-af21b7abd8de"
      },
      "source": [
        "clean_P7=P7.groupby('Players_7').filter(lambda b: len(b)>5)\n",
        "clean_P7.shape"
      ],
      "execution_count": 271,
      "outputs": [
        {
          "output_type": "execute_result",
          "data": {
            "text/plain": [
              "(897, 10)"
            ]
          },
          "metadata": {
            "tags": []
          },
          "execution_count": 271
        }
      ]
    },
    {
      "cell_type": "code",
      "metadata": {
        "id": "CUb4a7Pcvqhh"
      },
      "source": [
        "from sklearn.model_selection import train_test_split\n",
        "Y=clean_P7.pop('Players_7')\n",
        "X=clean_P7\n",
        "X_train,X_test,y_train,y_test = train_test_split(X,Y,test_size=0.22,random_state=3)\n"
      ],
      "execution_count": 272,
      "outputs": []
    },
    {
      "cell_type": "code",
      "metadata": {
        "colab": {
          "base_uri": "https://localhost:8080/",
          "height": 0
        },
        "id": "1j69Ef3Wvqfs",
        "outputId": "c907f05c-3e65-41e3-8116-8764ea958d9b"
      },
      "source": [
        "from sklearn.tree import DecisionTreeClassifier\n",
        "classifier = DecisionTreeClassifier()\n",
        "classifier = classifier.fit(X_train,y_train)\n",
        "y_pred_7 = classifier.predict(X_test)\n",
        "accuracy7=round(metrics.accuracy_score(y_test, y_pred_7)*100,0)\n",
        "acc_list.append(accuracy7)\n",
        "print(\"Accuracy of the model:\", accuracy7)"
      ],
      "execution_count": 274,
      "outputs": [
        {
          "output_type": "stream",
          "text": [
            "Accuracy of the model: 36.0\n"
          ],
          "name": "stdout"
        }
      ]
    },
    {
      "cell_type": "markdown",
      "metadata": {
        "id": "dQNx3i6exGFr"
      },
      "source": [
        "For predicting Player 7, I have also used the value which was predicted in player 1, Player2,Player3, Player4, Player5, Player 6.\n",
        "Also, Predicting Player 7 Who have played with AM Rahane, Murili Vijay,AT Rayudu,V Kohli,SK Raina,RV Uthappa in India in Wankhede Stadium in 2019 Encoded Values for Input variables are:\n",
        "\n",
        "1. Player 1(AM Rahane)=23(Predicted Value)\n",
        "2. Player 2(M Vijay)=121(Predicted Value)\n",
        "3. Player 3(AT Rayudu)=42(Predicted Value)\n",
        "4. Player 4(V Kohli)=406(Predicted Value)\n",
        "5. Player 5(SK Raina)=408(Predicted Value) \n",
        "6. Player 6(RV Uthappa)=400(Predicted Value) \n",
        "7. India encoding: 27\n",
        "8. 2019:14\n",
        "9. wankhede 214"
      ]
    },
    {
      "cell_type": "code",
      "metadata": {
        "colab": {
          "base_uri": "https://localhost:8080/",
          "height": 0
        },
        "id": "rE6xd187vqdT",
        "outputId": "c05317ba-2e04-4640-ce25-8c0c0d5da725"
      },
      "source": [
        "classifier.predict([[23,121,42,406,408,400,27,14,214]])"
      ],
      "execution_count": 280,
      "outputs": [
        {
          "output_type": "execute_result",
          "data": {
            "text/plain": [
              "array(['SR Patel'], dtype=object)"
            ]
          },
          "metadata": {
            "tags": []
          },
          "execution_count": 280
        }
      ]
    },
    {
      "cell_type": "markdown",
      "metadata": {
        "id": "St3EQyotxXY1"
      },
      "source": [
        "**PLAYER 7= SR Patel**"
      ]
    },
    {
      "cell_type": "markdown",
      "metadata": {
        "id": "AHMiMwQexrBs"
      },
      "source": [
        "### **Prediction for Player-8**"
      ]
    },
    {
      "cell_type": "code",
      "metadata": {
        "colab": {
          "base_uri": "https://localhost:8080/",
          "height": 417
        },
        "id": "m_7fNHSNvqZB",
        "outputId": "2a00e32f-be72-40ce-87fc-71e6b8125189"
      },
      "source": [
        "from sklearn.preprocessing import LabelEncoder\n",
        "P8 = match_merged[['Players_1','Players_2','Players_3','Players_4','Players_5','Players_6','Players_7','Players_8','Team1','Season','Venue']].copy()\n",
        "var8 = ['Team1','Venue','Season','Players_1','Players_2','Players_3','Players_4','Players_5','Players_6','Players_7']\n",
        "l = LabelEncoder()\n",
        "for i in var8:\n",
        "    P8[i] = l.fit_transform(P8[i])\n",
        "P8"
      ],
      "execution_count": 323,
      "outputs": [
        {
          "output_type": "execute_result",
          "data": {
            "text/html": [
              "<div>\n",
              "<style scoped>\n",
              "    .dataframe tbody tr th:only-of-type {\n",
              "        vertical-align: middle;\n",
              "    }\n",
              "\n",
              "    .dataframe tbody tr th {\n",
              "        vertical-align: top;\n",
              "    }\n",
              "\n",
              "    .dataframe thead th {\n",
              "        text-align: right;\n",
              "    }\n",
              "</style>\n",
              "<table border=\"1\" class=\"dataframe\">\n",
              "  <thead>\n",
              "    <tr style=\"text-align: right;\">\n",
              "      <th></th>\n",
              "      <th>Players_1</th>\n",
              "      <th>Players_2</th>\n",
              "      <th>Players_3</th>\n",
              "      <th>Players_4</th>\n",
              "      <th>Players_5</th>\n",
              "      <th>Players_6</th>\n",
              "      <th>Players_7</th>\n",
              "      <th>Players_8</th>\n",
              "      <th>Team1</th>\n",
              "      <th>Season</th>\n",
              "      <th>Venue</th>\n",
              "    </tr>\n",
              "  </thead>\n",
              "  <tbody>\n",
              "    <tr>\n",
              "      <th>0</th>\n",
              "      <td>137</td>\n",
              "      <td>428</td>\n",
              "      <td>192</td>\n",
              "      <td>286</td>\n",
              "      <td>64</td>\n",
              "      <td>577</td>\n",
              "      <td>61</td>\n",
              "      <td>Haseeb Amjad</td>\n",
              "      <td>42</td>\n",
              "      <td>11</td>\n",
              "      <td>210</td>\n",
              "    </tr>\n",
              "    <tr>\n",
              "      <th>1</th>\n",
              "      <td>372</td>\n",
              "      <td>470</td>\n",
              "      <td>52</td>\n",
              "      <td>410</td>\n",
              "      <td>235</td>\n",
              "      <td>46</td>\n",
              "      <td>580</td>\n",
              "      <td>Amir Ali</td>\n",
              "      <td>32</td>\n",
              "      <td>11</td>\n",
              "      <td>91</td>\n",
              "    </tr>\n",
              "    <tr>\n",
              "      <th>2</th>\n",
              "      <td>137</td>\n",
              "      <td>463</td>\n",
              "      <td>338</td>\n",
              "      <td>161</td>\n",
              "      <td>64</td>\n",
              "      <td>58</td>\n",
              "      <td>269</td>\n",
              "      <td>Haseeb Amjad</td>\n",
              "      <td>57</td>\n",
              "      <td>11</td>\n",
              "      <td>8</td>\n",
              "    </tr>\n",
              "    <tr>\n",
              "      <th>3</th>\n",
              "      <td>264</td>\n",
              "      <td>42</td>\n",
              "      <td>47</td>\n",
              "      <td>377</td>\n",
              "      <td>448</td>\n",
              "      <td>537</td>\n",
              "      <td>214</td>\n",
              "      <td>Khizar Hayat</td>\n",
              "      <td>57</td>\n",
              "      <td>11</td>\n",
              "      <td>8</td>\n",
              "    </tr>\n",
              "    <tr>\n",
              "      <th>4</th>\n",
              "      <td>265</td>\n",
              "      <td>451</td>\n",
              "      <td>166</td>\n",
              "      <td>281</td>\n",
              "      <td>430</td>\n",
              "      <td>362</td>\n",
              "      <td>566</td>\n",
              "      <td>Mirwais Ashraf</td>\n",
              "      <td>73</td>\n",
              "      <td>11</td>\n",
              "      <td>93</td>\n",
              "    </tr>\n",
              "    <tr>\n",
              "      <th>...</th>\n",
              "      <td>...</td>\n",
              "      <td>...</td>\n",
              "      <td>...</td>\n",
              "      <td>...</td>\n",
              "      <td>...</td>\n",
              "      <td>...</td>\n",
              "      <td>...</td>\n",
              "      <td>...</td>\n",
              "      <td>...</td>\n",
              "      <td>...</td>\n",
              "      <td>...</td>\n",
              "    </tr>\n",
              "    <tr>\n",
              "      <th>1900</th>\n",
              "      <td>372</td>\n",
              "      <td>470</td>\n",
              "      <td>52</td>\n",
              "      <td>198</td>\n",
              "      <td>471</td>\n",
              "      <td>538</td>\n",
              "      <td>47</td>\n",
              "      <td>Amir Ali</td>\n",
              "      <td>28</td>\n",
              "      <td>11</td>\n",
              "      <td>5</td>\n",
              "    </tr>\n",
              "    <tr>\n",
              "      <th>1901</th>\n",
              "      <td>38</td>\n",
              "      <td>412</td>\n",
              "      <td>239</td>\n",
              "      <td>360</td>\n",
              "      <td>440</td>\n",
              "      <td>291</td>\n",
              "      <td>399</td>\n",
              "      <td>Fayyaz Ahmed</td>\n",
              "      <td>28</td>\n",
              "      <td>11</td>\n",
              "      <td>5</td>\n",
              "    </tr>\n",
              "    <tr>\n",
              "      <th>1902</th>\n",
              "      <td>265</td>\n",
              "      <td>451</td>\n",
              "      <td>380</td>\n",
              "      <td>375</td>\n",
              "      <td>175</td>\n",
              "      <td>362</td>\n",
              "      <td>566</td>\n",
              "      <td>Shapoor Zadran</td>\n",
              "      <td>28</td>\n",
              "      <td>11</td>\n",
              "      <td>5</td>\n",
              "    </tr>\n",
              "    <tr>\n",
              "      <th>1903</th>\n",
              "      <td>41</td>\n",
              "      <td>432</td>\n",
              "      <td>47</td>\n",
              "      <td>282</td>\n",
              "      <td>434</td>\n",
              "      <td>290</td>\n",
              "      <td>579</td>\n",
              "      <td>Muhammad Wafiq</td>\n",
              "      <td>57</td>\n",
              "      <td>11</td>\n",
              "      <td>8</td>\n",
              "    </tr>\n",
              "    <tr>\n",
              "      <th>1904</th>\n",
              "      <td>372</td>\n",
              "      <td>470</td>\n",
              "      <td>238</td>\n",
              "      <td>410</td>\n",
              "      <td>43</td>\n",
              "      <td>44</td>\n",
              "      <td>47</td>\n",
              "      <td>Sultan Ahmed</td>\n",
              "      <td>57</td>\n",
              "      <td>11</td>\n",
              "      <td>8</td>\n",
              "    </tr>\n",
              "  </tbody>\n",
              "</table>\n",
              "<p>1905 rows × 11 columns</p>\n",
              "</div>"
            ],
            "text/plain": [
              "      Players_1  Players_2  Players_3  ...  Team1  Season  Venue\n",
              "0           137        428        192  ...     42      11    210\n",
              "1           372        470         52  ...     32      11     91\n",
              "2           137        463        338  ...     57      11      8\n",
              "3           264         42         47  ...     57      11      8\n",
              "4           265        451        166  ...     73      11     93\n",
              "...         ...        ...        ...  ...    ...     ...    ...\n",
              "1900        372        470         52  ...     28      11      5\n",
              "1901         38        412        239  ...     28      11      5\n",
              "1902        265        451        380  ...     28      11      5\n",
              "1903         41        432         47  ...     57      11      8\n",
              "1904        372        470        238  ...     57      11      8\n",
              "\n",
              "[1905 rows x 11 columns]"
            ]
          },
          "metadata": {
            "tags": []
          },
          "execution_count": 323
        }
      ]
    },
    {
      "cell_type": "code",
      "metadata": {
        "colab": {
          "base_uri": "https://localhost:8080/",
          "height": 0
        },
        "id": "5QXZ4T5XvqWJ",
        "outputId": "0b963e11-50b0-4fb1-944d-9688347b48cb"
      },
      "source": [
        "clean_P8=P8.groupby('Players_8').filter(lambda b: len(b)>5)\n",
        "clean_P8.shape"
      ],
      "execution_count": 324,
      "outputs": [
        {
          "output_type": "execute_result",
          "data": {
            "text/plain": [
              "(931, 11)"
            ]
          },
          "metadata": {
            "tags": []
          },
          "execution_count": 324
        }
      ]
    },
    {
      "cell_type": "code",
      "metadata": {
        "id": "_adeIeAgyMPl"
      },
      "source": [
        "from sklearn.model_selection import train_test_split\n",
        "Y=clean_P8.pop('Players_8')\n",
        "X=clean_P8\n",
        "X_train,X_test,y_train,y_test = train_test_split(X,Y,test_size=0.15,random_state=2)\n"
      ],
      "execution_count": 325,
      "outputs": []
    },
    {
      "cell_type": "code",
      "metadata": {
        "id": "Pwcf-uasyQgX"
      },
      "source": [
        "from sklearn.tree import DecisionTreeClassifier\n",
        "classifier = DecisionTreeClassifier()\n",
        "classifier = classifier.fit(X_train,y_train)\n",
        "y_pred_8 = classifier.predict(X_test)"
      ],
      "execution_count": 326,
      "outputs": []
    },
    {
      "cell_type": "code",
      "metadata": {
        "colab": {
          "base_uri": "https://localhost:8080/",
          "height": 0
        },
        "id": "-YXx-1yMyUTK",
        "outputId": "2f15e45c-3c32-4abe-e142-b29a4576a7b5"
      },
      "source": [
        "accuracy8=round(metrics.accuracy_score(y_test, y_pred_8)*100,0)\n",
        "acc_list.append(accuracy8)\n",
        "print(\"Accuracy of the model:\", accuracy8)"
      ],
      "execution_count": 328,
      "outputs": [
        {
          "output_type": "stream",
          "text": [
            "Accuracy of the model: 33.0\n"
          ],
          "name": "stdout"
        }
      ]
    },
    {
      "cell_type": "markdown",
      "metadata": {
        "id": "DKFAzzLuz0KF"
      },
      "source": [
        "For predicting Player 8, I have also used the value which was predicted in player 1, Player2,Player3, Player4, Player5,Player6,Player7.\n",
        "Also, Predicting Player 8 Who have played with AM Rahane, Murili Vijay,AT Rayudu,V Kohli,SK Raina,RV Uthappa, SR Patel in India in Wankhede Stadium in 2019 Encoded Values for Input variables are:\n",
        "\n",
        "1. Player 1(AM Rahane)=23(Predicted Value)\n",
        "2. Player 2(M Vijay)=121(Predicted Value)\n",
        "3. Player 3(AT Rayudu)=42(Predicted Value)\n",
        "4. Player 4(V Kohli)=406(Predicted Value)\n",
        "5. Player 5(SK Raina)=408(Predicted Value) \n",
        "6. Player 6(RV Uthappa)=400(Predicted Value)\n",
        "7. Player 7(SR Patel)=543(Predicted Value) \n",
        "7. India encoding: 27\n",
        "8. 2019:14\n",
        "9. wankhede 214"
      ]
    },
    {
      "cell_type": "code",
      "metadata": {
        "colab": {
          "base_uri": "https://localhost:8080/",
          "height": 0
        },
        "id": "FvRbD6SAzC0F",
        "outputId": "723723ef-fc80-40f1-fd9b-f07bc44fa844"
      },
      "source": [
        "classifier.predict([[23,121,42,406,408,400,543,27,14,214]])"
      ],
      "execution_count": 334,
      "outputs": [
        {
          "output_type": "execute_result",
          "data": {
            "text/plain": [
              "array(['Mashrafe Mortaza'], dtype=object)"
            ]
          },
          "metadata": {
            "tags": []
          },
          "execution_count": 334
        }
      ]
    },
    {
      "cell_type": "markdown",
      "metadata": {
        "id": "rCBWI1gczjqF"
      },
      "source": [
        "**PLAYER 8= Mashrafe Mortaza**"
      ]
    },
    {
      "cell_type": "markdown",
      "metadata": {
        "id": "RkGd1qjw1I--"
      },
      "source": [
        "### **Prediction for Player-9**"
      ]
    },
    {
      "cell_type": "code",
      "metadata": {
        "colab": {
          "base_uri": "https://localhost:8080/",
          "height": 417
        },
        "id": "ul1AYU9vzCnB",
        "outputId": "19c127a4-6973-4e2e-a3d7-0572b4619bc2"
      },
      "source": [
        "from sklearn.preprocessing import LabelEncoder\n",
        "P9 = match_merged[['Players_1','Players_2','Players_3','Players_4','Players_5','Players_6','Players_7','Players_8','Players_9','Team1','Season','Venue']].copy()\n",
        "var9 = ['Team1','Venue','Season','Players_1','Players_2','Players_3','Players_4','Players_5','Players_6','Players_7','Players_8']\n",
        "l = LabelEncoder()\n",
        "for i in var9:\n",
        "    P9[i] = l.fit_transform(P9[i])\n",
        "P9"
      ],
      "execution_count": 382,
      "outputs": [
        {
          "output_type": "execute_result",
          "data": {
            "text/html": [
              "<div>\n",
              "<style scoped>\n",
              "    .dataframe tbody tr th:only-of-type {\n",
              "        vertical-align: middle;\n",
              "    }\n",
              "\n",
              "    .dataframe tbody tr th {\n",
              "        vertical-align: top;\n",
              "    }\n",
              "\n",
              "    .dataframe thead th {\n",
              "        text-align: right;\n",
              "    }\n",
              "</style>\n",
              "<table border=\"1\" class=\"dataframe\">\n",
              "  <thead>\n",
              "    <tr style=\"text-align: right;\">\n",
              "      <th></th>\n",
              "      <th>Players_1</th>\n",
              "      <th>Players_2</th>\n",
              "      <th>Players_3</th>\n",
              "      <th>Players_4</th>\n",
              "      <th>Players_5</th>\n",
              "      <th>Players_6</th>\n",
              "      <th>Players_7</th>\n",
              "      <th>Players_8</th>\n",
              "      <th>Players_9</th>\n",
              "      <th>Team1</th>\n",
              "      <th>Season</th>\n",
              "      <th>Venue</th>\n",
              "    </tr>\n",
              "  </thead>\n",
              "  <tbody>\n",
              "    <tr>\n",
              "      <th>0</th>\n",
              "      <td>137</td>\n",
              "      <td>428</td>\n",
              "      <td>192</td>\n",
              "      <td>286</td>\n",
              "      <td>64</td>\n",
              "      <td>577</td>\n",
              "      <td>61</td>\n",
              "      <td>208</td>\n",
              "      <td>Tanwir Afzal</td>\n",
              "      <td>42</td>\n",
              "      <td>11</td>\n",
              "      <td>210</td>\n",
              "    </tr>\n",
              "    <tr>\n",
              "      <th>1</th>\n",
              "      <td>372</td>\n",
              "      <td>470</td>\n",
              "      <td>52</td>\n",
              "      <td>410</td>\n",
              "      <td>235</td>\n",
              "      <td>46</td>\n",
              "      <td>580</td>\n",
              "      <td>66</td>\n",
              "      <td>AV Lalcheta</td>\n",
              "      <td>32</td>\n",
              "      <td>11</td>\n",
              "      <td>91</td>\n",
              "    </tr>\n",
              "    <tr>\n",
              "      <th>2</th>\n",
              "      <td>137</td>\n",
              "      <td>463</td>\n",
              "      <td>338</td>\n",
              "      <td>161</td>\n",
              "      <td>64</td>\n",
              "      <td>58</td>\n",
              "      <td>269</td>\n",
              "      <td>208</td>\n",
              "      <td>Tanwir Afzal</td>\n",
              "      <td>57</td>\n",
              "      <td>11</td>\n",
              "      <td>8</td>\n",
              "    </tr>\n",
              "    <tr>\n",
              "      <th>3</th>\n",
              "      <td>264</td>\n",
              "      <td>42</td>\n",
              "      <td>47</td>\n",
              "      <td>377</td>\n",
              "      <td>448</td>\n",
              "      <td>537</td>\n",
              "      <td>214</td>\n",
              "      <td>311</td>\n",
              "      <td>Hassan Ghulam</td>\n",
              "      <td>57</td>\n",
              "      <td>11</td>\n",
              "      <td>8</td>\n",
              "    </tr>\n",
              "    <tr>\n",
              "      <th>4</th>\n",
              "      <td>265</td>\n",
              "      <td>451</td>\n",
              "      <td>166</td>\n",
              "      <td>281</td>\n",
              "      <td>430</td>\n",
              "      <td>362</td>\n",
              "      <td>566</td>\n",
              "      <td>383</td>\n",
              "      <td>Dawlat Zadran</td>\n",
              "      <td>73</td>\n",
              "      <td>11</td>\n",
              "      <td>93</td>\n",
              "    </tr>\n",
              "    <tr>\n",
              "      <th>...</th>\n",
              "      <td>...</td>\n",
              "      <td>...</td>\n",
              "      <td>...</td>\n",
              "      <td>...</td>\n",
              "      <td>...</td>\n",
              "      <td>...</td>\n",
              "      <td>...</td>\n",
              "      <td>...</td>\n",
              "      <td>...</td>\n",
              "      <td>...</td>\n",
              "      <td>...</td>\n",
              "      <td>...</td>\n",
              "    </tr>\n",
              "    <tr>\n",
              "      <th>1900</th>\n",
              "      <td>372</td>\n",
              "      <td>470</td>\n",
              "      <td>52</td>\n",
              "      <td>198</td>\n",
              "      <td>471</td>\n",
              "      <td>538</td>\n",
              "      <td>47</td>\n",
              "      <td>66</td>\n",
              "      <td>M Ansari</td>\n",
              "      <td>28</td>\n",
              "      <td>11</td>\n",
              "      <td>5</td>\n",
              "    </tr>\n",
              "    <tr>\n",
              "      <th>1901</th>\n",
              "      <td>38</td>\n",
              "      <td>412</td>\n",
              "      <td>239</td>\n",
              "      <td>360</td>\n",
              "      <td>440</td>\n",
              "      <td>291</td>\n",
              "      <td>399</td>\n",
              "      <td>172</td>\n",
              "      <td>Mohammad Naveed</td>\n",
              "      <td>28</td>\n",
              "      <td>11</td>\n",
              "      <td>5</td>\n",
              "    </tr>\n",
              "    <tr>\n",
              "      <th>1902</th>\n",
              "      <td>265</td>\n",
              "      <td>451</td>\n",
              "      <td>380</td>\n",
              "      <td>375</td>\n",
              "      <td>175</td>\n",
              "      <td>362</td>\n",
              "      <td>566</td>\n",
              "      <td>570</td>\n",
              "      <td>Dawlat Zadran</td>\n",
              "      <td>28</td>\n",
              "      <td>11</td>\n",
              "      <td>5</td>\n",
              "    </tr>\n",
              "    <tr>\n",
              "      <th>1903</th>\n",
              "      <td>41</td>\n",
              "      <td>432</td>\n",
              "      <td>47</td>\n",
              "      <td>282</td>\n",
              "      <td>434</td>\n",
              "      <td>290</td>\n",
              "      <td>579</td>\n",
              "      <td>400</td>\n",
              "      <td>Shahrulnizam Yusof</td>\n",
              "      <td>57</td>\n",
              "      <td>11</td>\n",
              "      <td>8</td>\n",
              "    </tr>\n",
              "    <tr>\n",
              "      <th>1904</th>\n",
              "      <td>372</td>\n",
              "      <td>470</td>\n",
              "      <td>238</td>\n",
              "      <td>410</td>\n",
              "      <td>43</td>\n",
              "      <td>44</td>\n",
              "      <td>47</td>\n",
              "      <td>577</td>\n",
              "      <td>Amir Ali</td>\n",
              "      <td>57</td>\n",
              "      <td>11</td>\n",
              "      <td>8</td>\n",
              "    </tr>\n",
              "  </tbody>\n",
              "</table>\n",
              "<p>1905 rows × 12 columns</p>\n",
              "</div>"
            ],
            "text/plain": [
              "      Players_1  Players_2  Players_3  ...  Team1  Season  Venue\n",
              "0           137        428        192  ...     42      11    210\n",
              "1           372        470         52  ...     32      11     91\n",
              "2           137        463        338  ...     57      11      8\n",
              "3           264         42         47  ...     57      11      8\n",
              "4           265        451        166  ...     73      11     93\n",
              "...         ...        ...        ...  ...    ...     ...    ...\n",
              "1900        372        470         52  ...     28      11      5\n",
              "1901         38        412        239  ...     28      11      5\n",
              "1902        265        451        380  ...     28      11      5\n",
              "1903         41        432         47  ...     57      11      8\n",
              "1904        372        470        238  ...     57      11      8\n",
              "\n",
              "[1905 rows x 12 columns]"
            ]
          },
          "metadata": {
            "tags": []
          },
          "execution_count": 382
        }
      ]
    },
    {
      "cell_type": "code",
      "metadata": {
        "colab": {
          "base_uri": "https://localhost:8080/",
          "height": 0
        },
        "id": "kFJTC8clzCkt",
        "outputId": "3f8a1789-8d86-4d7b-c334-7eee1aa9f290"
      },
      "source": [
        "clean_P9=P9.groupby('Players_9').filter(lambda b: len(b)>10)\n",
        "clean_P9.shape"
      ],
      "execution_count": 383,
      "outputs": [
        {
          "output_type": "execute_result",
          "data": {
            "text/plain": [
              "(561, 12)"
            ]
          },
          "metadata": {
            "tags": []
          },
          "execution_count": 383
        }
      ]
    },
    {
      "cell_type": "code",
      "metadata": {
        "id": "cPJeqOJ0zCiJ"
      },
      "source": [
        "from sklearn.model_selection import train_test_split\n",
        "Y=clean_P9.pop('Players_9')\n",
        "X=clean_P9\n",
        "X_train,X_test,y_train,y_test = train_test_split(X,Y,test_size=0.21,random_state=3)"
      ],
      "execution_count": 384,
      "outputs": []
    },
    {
      "cell_type": "code",
      "metadata": {
        "id": "Dye2Bhg1zCff"
      },
      "source": [
        "from sklearn.tree import DecisionTreeClassifier\n",
        "classifier = DecisionTreeClassifier()\n",
        "classifier = classifier.fit(X_train,y_train)\n",
        "y_pred_9 = classifier.predict(X_test)"
      ],
      "execution_count": 385,
      "outputs": []
    },
    {
      "cell_type": "code",
      "metadata": {
        "colab": {
          "base_uri": "https://localhost:8080/",
          "height": 0
        },
        "id": "jIbKiV9fzCcU",
        "outputId": "4732aa2f-4f0f-49be-c40f-edba92330876"
      },
      "source": [
        "accuracy9=round(metrics.accuracy_score(y_test, y_pred_9)*100,0)\n",
        "acc_list.append(accuracy9)\n",
        "print(\"Accuracy of the model:\", accuracy9)"
      ],
      "execution_count": 387,
      "outputs": [
        {
          "output_type": "stream",
          "text": [
            "Accuracy of the model: 35.0\n"
          ],
          "name": "stdout"
        }
      ]
    },
    {
      "cell_type": "markdown",
      "metadata": {
        "id": "IJ1djreB13NI"
      },
      "source": [
        "For predicting Player 9, I have also used the value which was predicted in player 1, Player2,Player3, Player4, Player5,Player6,Player7,Player8.\n",
        "Also, Predicting Player 9 Who have played with AM Rahane, Murili Vijay,AT Rayudu,V Kohli,SK Raina,RV Uthappa, SR Patel,Mashrafe Murtaza in India in Wankhede Stadium in 2019 Encoded Values for Input variables are:\n",
        "\n",
        "1. Player 1(AM Rahane)=23(Predicted Value)\n",
        "2. Player 2(M Vijay)=121(Predicted Value)\n",
        "3. Player 3(AT Rayudu)=42(Predicted Value)\n",
        "4. Player 4(V Kohli)=406(Predicted Value)\n",
        "5. Player 5(SK Raina)=408(Predicted Value) \n",
        "6. Player 6(RV Uthappa)=400(Predicted Value)\n",
        "7. Player 7(SR Patel)=543(Predicted Value)\n",
        "7. Player 8(Mashrafe Mortaza)=380(Predicted Value) \n",
        "9. India encoding: 27\n",
        "10. 2019:14\n",
        "11. Wankhede 214"
      ]
    },
    {
      "cell_type": "code",
      "metadata": {
        "colab": {
          "base_uri": "https://localhost:8080/",
          "height": 0
        },
        "id": "k6QFTCxm2POD",
        "outputId": "8360b3e1-0c0b-421f-a7ff-73b73946b7e8"
      },
      "source": [
        "classifier.predict([[23,121,42,406,408,400,543,380,27,14,214]])"
      ],
      "execution_count": 393,
      "outputs": [
        {
          "output_type": "execute_result",
          "data": {
            "text/plain": [
              "array(['B Kumar'], dtype=object)"
            ]
          },
          "metadata": {
            "tags": []
          },
          "execution_count": 393
        }
      ]
    },
    {
      "cell_type": "markdown",
      "metadata": {
        "id": "4bi7yRWE2fTn"
      },
      "source": [
        "**PLAYER 9= B Kumar**"
      ]
    },
    {
      "cell_type": "markdown",
      "metadata": {
        "id": "foUacOHV2qkt"
      },
      "source": [
        "### **Prediction for Player-10**"
      ]
    },
    {
      "cell_type": "code",
      "metadata": {
        "colab": {
          "base_uri": "https://localhost:8080/",
          "height": 417
        },
        "id": "LxAZdfrCzCZi",
        "outputId": "41e99cfd-1be9-4f95-9daf-4ead42bea20f"
      },
      "source": [
        "from sklearn.preprocessing import LabelEncoder\n",
        "P10 = match_merged[['Players_1','Players_2','Players_3','Players_4','Players_5','Players_6','Players_7','Players_8','Players_9','Players_10','Team1','Season','Venue']].copy()\n",
        "var10 = ['Team1','Venue','Season','Players_1','Players_2','Players_3','Players_4','Players_5','Players_6','Players_7','Players_8','Players_9']\n",
        "l = LabelEncoder()\n",
        "for i in var10:\n",
        "    P10[i] = l.fit_transform(P10[i])\n",
        "P10"
      ],
      "execution_count": 400,
      "outputs": [
        {
          "output_type": "execute_result",
          "data": {
            "text/html": [
              "<div>\n",
              "<style scoped>\n",
              "    .dataframe tbody tr th:only-of-type {\n",
              "        vertical-align: middle;\n",
              "    }\n",
              "\n",
              "    .dataframe tbody tr th {\n",
              "        vertical-align: top;\n",
              "    }\n",
              "\n",
              "    .dataframe thead th {\n",
              "        text-align: right;\n",
              "    }\n",
              "</style>\n",
              "<table border=\"1\" class=\"dataframe\">\n",
              "  <thead>\n",
              "    <tr style=\"text-align: right;\">\n",
              "      <th></th>\n",
              "      <th>Players_1</th>\n",
              "      <th>Players_2</th>\n",
              "      <th>Players_3</th>\n",
              "      <th>Players_4</th>\n",
              "      <th>Players_5</th>\n",
              "      <th>Players_6</th>\n",
              "      <th>Players_7</th>\n",
              "      <th>Players_8</th>\n",
              "      <th>Players_9</th>\n",
              "      <th>Players_10</th>\n",
              "      <th>Team1</th>\n",
              "      <th>Season</th>\n",
              "      <th>Venue</th>\n",
              "    </tr>\n",
              "  </thead>\n",
              "  <tbody>\n",
              "    <tr>\n",
              "      <th>0</th>\n",
              "      <td>137</td>\n",
              "      <td>428</td>\n",
              "      <td>192</td>\n",
              "      <td>286</td>\n",
              "      <td>64</td>\n",
              "      <td>577</td>\n",
              "      <td>61</td>\n",
              "      <td>208</td>\n",
              "      <td>568</td>\n",
              "      <td>Nadeem Ahmed</td>\n",
              "      <td>42</td>\n",
              "      <td>11</td>\n",
              "      <td>210</td>\n",
              "    </tr>\n",
              "    <tr>\n",
              "      <th>1</th>\n",
              "      <td>372</td>\n",
              "      <td>470</td>\n",
              "      <td>52</td>\n",
              "      <td>410</td>\n",
              "      <td>235</td>\n",
              "      <td>46</td>\n",
              "      <td>580</td>\n",
              "      <td>66</td>\n",
              "      <td>50</td>\n",
              "      <td>RJ Ranpura</td>\n",
              "      <td>32</td>\n",
              "      <td>11</td>\n",
              "      <td>91</td>\n",
              "    </tr>\n",
              "    <tr>\n",
              "      <th>2</th>\n",
              "      <td>137</td>\n",
              "      <td>463</td>\n",
              "      <td>338</td>\n",
              "      <td>161</td>\n",
              "      <td>64</td>\n",
              "      <td>58</td>\n",
              "      <td>269</td>\n",
              "      <td>208</td>\n",
              "      <td>568</td>\n",
              "      <td>Nadeem Ahmed</td>\n",
              "      <td>57</td>\n",
              "      <td>11</td>\n",
              "      <td>8</td>\n",
              "    </tr>\n",
              "    <tr>\n",
              "      <th>3</th>\n",
              "      <td>264</td>\n",
              "      <td>42</td>\n",
              "      <td>47</td>\n",
              "      <td>377</td>\n",
              "      <td>448</td>\n",
              "      <td>537</td>\n",
              "      <td>214</td>\n",
              "      <td>311</td>\n",
              "      <td>211</td>\n",
              "      <td>Shahrulnizam Yusof</td>\n",
              "      <td>57</td>\n",
              "      <td>11</td>\n",
              "      <td>8</td>\n",
              "    </tr>\n",
              "    <tr>\n",
              "      <th>4</th>\n",
              "      <td>265</td>\n",
              "      <td>451</td>\n",
              "      <td>166</td>\n",
              "      <td>281</td>\n",
              "      <td>430</td>\n",
              "      <td>362</td>\n",
              "      <td>566</td>\n",
              "      <td>383</td>\n",
              "      <td>159</td>\n",
              "      <td>Amir Hamza</td>\n",
              "      <td>73</td>\n",
              "      <td>11</td>\n",
              "      <td>93</td>\n",
              "    </tr>\n",
              "    <tr>\n",
              "      <th>...</th>\n",
              "      <td>...</td>\n",
              "      <td>...</td>\n",
              "      <td>...</td>\n",
              "      <td>...</td>\n",
              "      <td>...</td>\n",
              "      <td>...</td>\n",
              "      <td>...</td>\n",
              "      <td>...</td>\n",
              "      <td>...</td>\n",
              "      <td>...</td>\n",
              "      <td>...</td>\n",
              "      <td>...</td>\n",
              "      <td>...</td>\n",
              "    </tr>\n",
              "    <tr>\n",
              "      <th>1900</th>\n",
              "      <td>372</td>\n",
              "      <td>470</td>\n",
              "      <td>52</td>\n",
              "      <td>198</td>\n",
              "      <td>471</td>\n",
              "      <td>538</td>\n",
              "      <td>47</td>\n",
              "      <td>66</td>\n",
              "      <td>325</td>\n",
              "      <td>RJ Ranpura</td>\n",
              "      <td>28</td>\n",
              "      <td>11</td>\n",
              "      <td>5</td>\n",
              "    </tr>\n",
              "    <tr>\n",
              "      <th>1901</th>\n",
              "      <td>38</td>\n",
              "      <td>412</td>\n",
              "      <td>239</td>\n",
              "      <td>360</td>\n",
              "      <td>440</td>\n",
              "      <td>291</td>\n",
              "      <td>399</td>\n",
              "      <td>172</td>\n",
              "      <td>374</td>\n",
              "      <td>Kamran Shazad</td>\n",
              "      <td>28</td>\n",
              "      <td>11</td>\n",
              "      <td>5</td>\n",
              "    </tr>\n",
              "    <tr>\n",
              "      <th>1902</th>\n",
              "      <td>265</td>\n",
              "      <td>451</td>\n",
              "      <td>380</td>\n",
              "      <td>375</td>\n",
              "      <td>175</td>\n",
              "      <td>362</td>\n",
              "      <td>566</td>\n",
              "      <td>570</td>\n",
              "      <td>159</td>\n",
              "      <td>Mirwais Ashraf</td>\n",
              "      <td>28</td>\n",
              "      <td>11</td>\n",
              "      <td>5</td>\n",
              "    </tr>\n",
              "    <tr>\n",
              "      <th>1903</th>\n",
              "      <td>41</td>\n",
              "      <td>432</td>\n",
              "      <td>47</td>\n",
              "      <td>282</td>\n",
              "      <td>434</td>\n",
              "      <td>290</td>\n",
              "      <td>579</td>\n",
              "      <td>400</td>\n",
              "      <td>533</td>\n",
              "      <td>Hassan Ghulam</td>\n",
              "      <td>57</td>\n",
              "      <td>11</td>\n",
              "      <td>8</td>\n",
              "    </tr>\n",
              "    <tr>\n",
              "      <th>1904</th>\n",
              "      <td>372</td>\n",
              "      <td>470</td>\n",
              "      <td>238</td>\n",
              "      <td>410</td>\n",
              "      <td>43</td>\n",
              "      <td>44</td>\n",
              "      <td>47</td>\n",
              "      <td>577</td>\n",
              "      <td>68</td>\n",
              "      <td>RJ Ranpura</td>\n",
              "      <td>57</td>\n",
              "      <td>11</td>\n",
              "      <td>8</td>\n",
              "    </tr>\n",
              "  </tbody>\n",
              "</table>\n",
              "<p>1905 rows × 13 columns</p>\n",
              "</div>"
            ],
            "text/plain": [
              "      Players_1  Players_2  Players_3  ...  Team1  Season  Venue\n",
              "0           137        428        192  ...     42      11    210\n",
              "1           372        470         52  ...     32      11     91\n",
              "2           137        463        338  ...     57      11      8\n",
              "3           264         42         47  ...     57      11      8\n",
              "4           265        451        166  ...     73      11     93\n",
              "...         ...        ...        ...  ...    ...     ...    ...\n",
              "1900        372        470         52  ...     28      11      5\n",
              "1901         38        412        239  ...     28      11      5\n",
              "1902        265        451        380  ...     28      11      5\n",
              "1903         41        432         47  ...     57      11      8\n",
              "1904        372        470        238  ...     57      11      8\n",
              "\n",
              "[1905 rows x 13 columns]"
            ]
          },
          "metadata": {
            "tags": []
          },
          "execution_count": 400
        }
      ]
    },
    {
      "cell_type": "code",
      "metadata": {
        "colab": {
          "base_uri": "https://localhost:8080/",
          "height": 0
        },
        "id": "OmlOdJ4nzCWg",
        "outputId": "fe301d30-14c4-4d30-a71c-fc20855e0127"
      },
      "source": [
        "clean_P10=P10.groupby('Players_10').filter(lambda b: len(b)>10)\n",
        "clean_P10.shape"
      ],
      "execution_count": 401,
      "outputs": [
        {
          "output_type": "execute_result",
          "data": {
            "text/plain": [
              "(624, 13)"
            ]
          },
          "metadata": {
            "tags": []
          },
          "execution_count": 401
        }
      ]
    },
    {
      "cell_type": "code",
      "metadata": {
        "id": "YG6PCa5ozCPv"
      },
      "source": [
        "from sklearn.model_selection import train_test_split\n",
        "Y=clean_P10.pop('Players_10')\n",
        "X=clean_P10\n",
        "X_train,X_test,y_train,y_test = train_test_split(X,Y,test_size=0.21,random_state=2)"
      ],
      "execution_count": 402,
      "outputs": []
    },
    {
      "cell_type": "code",
      "metadata": {
        "id": "URrSX6RZzCNP"
      },
      "source": [
        "from sklearn.tree import DecisionTreeClassifier\n",
        "classifier = DecisionTreeClassifier()\n",
        "classifier = classifier.fit(X_train,y_train)\n",
        "y_pred_10 = classifier.predict(X_test)"
      ],
      "execution_count": 403,
      "outputs": []
    },
    {
      "cell_type": "code",
      "metadata": {
        "colab": {
          "base_uri": "https://localhost:8080/",
          "height": 0
        },
        "id": "x3iCxuMfzCKv",
        "outputId": "f5fab9f6-a5ba-4e8a-c8ee-8b4c74daf704"
      },
      "source": [
        "accuracy10=round(metrics.accuracy_score(y_test, y_pred_10)*100,0)\n",
        "acc_list.append(accuracy10)\n",
        "print(\"Accuracy of the model:\", accuracy10)"
      ],
      "execution_count": 405,
      "outputs": [
        {
          "output_type": "stream",
          "text": [
            "Accuracy of the model: 33.0\n"
          ],
          "name": "stdout"
        }
      ]
    },
    {
      "cell_type": "markdown",
      "metadata": {
        "id": "eUczwvh737Xq"
      },
      "source": [
        "For predicting Player 10, I have also used the value which was predicted in player 1, Player2,Player3, Player4, Player5,Player6,Player7,Player8,Player9.\n",
        "Also, Predicting Player 10 Who have played with AM Rahane, Murili Vijay,AT Rayudu,V Kohli,SK Raina,RV Uthappa, SR Patel,Mashrafe Murtaza,B Kumar in India in Wankhede Stadium in 2019 Encoded Values for Input variables are:\n",
        "\n",
        "1. Player 1(AM Rahane)=23(Predicted Value)\n",
        "2. Player 2(M Vijay)=121(Predicted Value)\n",
        "3. Player 3(AT Rayudu)=42(Predicted Value)\n",
        "4. Player 4(V Kohli)=406(Predicted Value)\n",
        "5. Player 5(SK Raina)=408(Predicted Value) \n",
        "6. Player 6(RV Uthappa)=400(Predicted Value)\n",
        "7. Player 7(SR Patel)=543(Predicted Value)\n",
        "8. Player 8(Mashrafe Mortaza)=380(Predicted Value) \n",
        "9. Player 9(B Kumar)=276(Predicted Value) \n",
        "10. India encoding: 27\n",
        "11. 2019:14\n",
        "12. Wankhede 214"
      ]
    },
    {
      "cell_type": "code",
      "metadata": {
        "colab": {
          "base_uri": "https://localhost:8080/",
          "height": 0
        },
        "id": "auc4t-djzCH3",
        "outputId": "af4cb0c2-7958-48b7-9704-42340ac53d19"
      },
      "source": [
        "classifier.predict([[23,121,42,406,408,400,543,380,276,27,14,214]])"
      ],
      "execution_count": 410,
      "outputs": [
        {
          "output_type": "execute_result",
          "data": {
            "text/plain": [
              "array(['Harbhajan Singh'], dtype=object)"
            ]
          },
          "metadata": {
            "tags": []
          },
          "execution_count": 410
        }
      ]
    },
    {
      "cell_type": "markdown",
      "metadata": {
        "id": "X8cTrf7Y4Ng1"
      },
      "source": [
        "**PLAYER 10= Harbhajan Singh**"
      ]
    },
    {
      "cell_type": "markdown",
      "metadata": {
        "id": "_JGQ81wW5jfY"
      },
      "source": [
        "### **Prediction for Player-11**"
      ]
    },
    {
      "cell_type": "code",
      "metadata": {
        "colab": {
          "base_uri": "https://localhost:8080/",
          "height": 417
        },
        "id": "Q18W9jLxzCEf",
        "outputId": "7f3fa7ae-79d4-4b17-8736-383eece8a0c0"
      },
      "source": [
        "from sklearn.preprocessing import LabelEncoder\n",
        "P11 = match_merged[['Players_1','Players_2','Players_3','Players_4','Players_5','Players_6','Players_7','Players_8','Players_9','Players_10','Players_12','Team1','Season','Venue']].copy()\n",
        "var11 = ['Team1','Venue','Season','Players_1','Players_2','Players_3','Players_4','Players_5','Players_6','Players_7','Players_8','Players_9','Players_10']\n",
        "l = LabelEncoder()\n",
        "for i in var11:\n",
        "    P11[i] = l.fit_transform(P11[i])\n",
        "P11"
      ],
      "execution_count": 482,
      "outputs": [
        {
          "output_type": "execute_result",
          "data": {
            "text/html": [
              "<div>\n",
              "<style scoped>\n",
              "    .dataframe tbody tr th:only-of-type {\n",
              "        vertical-align: middle;\n",
              "    }\n",
              "\n",
              "    .dataframe tbody tr th {\n",
              "        vertical-align: top;\n",
              "    }\n",
              "\n",
              "    .dataframe thead th {\n",
              "        text-align: right;\n",
              "    }\n",
              "</style>\n",
              "<table border=\"1\" class=\"dataframe\">\n",
              "  <thead>\n",
              "    <tr style=\"text-align: right;\">\n",
              "      <th></th>\n",
              "      <th>Players_1</th>\n",
              "      <th>Players_2</th>\n",
              "      <th>Players_3</th>\n",
              "      <th>Players_4</th>\n",
              "      <th>Players_5</th>\n",
              "      <th>Players_6</th>\n",
              "      <th>Players_7</th>\n",
              "      <th>Players_8</th>\n",
              "      <th>Players_9</th>\n",
              "      <th>Players_10</th>\n",
              "      <th>Players_12</th>\n",
              "      <th>Team1</th>\n",
              "      <th>Season</th>\n",
              "      <th>Venue</th>\n",
              "    </tr>\n",
              "  </thead>\n",
              "  <tbody>\n",
              "    <tr>\n",
              "      <th>0</th>\n",
              "      <td>137</td>\n",
              "      <td>428</td>\n",
              "      <td>192</td>\n",
              "      <td>286</td>\n",
              "      <td>64</td>\n",
              "      <td>577</td>\n",
              "      <td>61</td>\n",
              "      <td>208</td>\n",
              "      <td>568</td>\n",
              "      <td>387</td>\n",
              "      <td>Amjad Ali</td>\n",
              "      <td>42</td>\n",
              "      <td>11</td>\n",
              "      <td>210</td>\n",
              "    </tr>\n",
              "    <tr>\n",
              "      <th>1</th>\n",
              "      <td>372</td>\n",
              "      <td>470</td>\n",
              "      <td>52</td>\n",
              "      <td>410</td>\n",
              "      <td>235</td>\n",
              "      <td>46</td>\n",
              "      <td>580</td>\n",
              "      <td>66</td>\n",
              "      <td>50</td>\n",
              "      <td>438</td>\n",
              "      <td>Noor Ali Zadran</td>\n",
              "      <td>32</td>\n",
              "      <td>11</td>\n",
              "      <td>91</td>\n",
              "    </tr>\n",
              "    <tr>\n",
              "      <th>2</th>\n",
              "      <td>137</td>\n",
              "      <td>463</td>\n",
              "      <td>338</td>\n",
              "      <td>161</td>\n",
              "      <td>64</td>\n",
              "      <td>58</td>\n",
              "      <td>269</td>\n",
              "      <td>208</td>\n",
              "      <td>568</td>\n",
              "      <td>387</td>\n",
              "      <td>SP Khakurel</td>\n",
              "      <td>57</td>\n",
              "      <td>11</td>\n",
              "      <td>8</td>\n",
              "    </tr>\n",
              "    <tr>\n",
              "      <th>3</th>\n",
              "      <td>264</td>\n",
              "      <td>42</td>\n",
              "      <td>47</td>\n",
              "      <td>377</td>\n",
              "      <td>448</td>\n",
              "      <td>537</td>\n",
              "      <td>214</td>\n",
              "      <td>311</td>\n",
              "      <td>211</td>\n",
              "      <td>512</td>\n",
              "      <td>Amjad Ali</td>\n",
              "      <td>57</td>\n",
              "      <td>11</td>\n",
              "      <td>8</td>\n",
              "    </tr>\n",
              "    <tr>\n",
              "      <th>4</th>\n",
              "      <td>265</td>\n",
              "      <td>451</td>\n",
              "      <td>166</td>\n",
              "      <td>281</td>\n",
              "      <td>430</td>\n",
              "      <td>362</td>\n",
              "      <td>566</td>\n",
              "      <td>383</td>\n",
              "      <td>159</td>\n",
              "      <td>68</td>\n",
              "      <td>SP Khakurel</td>\n",
              "      <td>73</td>\n",
              "      <td>11</td>\n",
              "      <td>93</td>\n",
              "    </tr>\n",
              "    <tr>\n",
              "      <th>...</th>\n",
              "      <td>...</td>\n",
              "      <td>...</td>\n",
              "      <td>...</td>\n",
              "      <td>...</td>\n",
              "      <td>...</td>\n",
              "      <td>...</td>\n",
              "      <td>...</td>\n",
              "      <td>...</td>\n",
              "      <td>...</td>\n",
              "      <td>...</td>\n",
              "      <td>...</td>\n",
              "      <td>...</td>\n",
              "      <td>...</td>\n",
              "      <td>...</td>\n",
              "    </tr>\n",
              "    <tr>\n",
              "      <th>1900</th>\n",
              "      <td>372</td>\n",
              "      <td>470</td>\n",
              "      <td>52</td>\n",
              "      <td>198</td>\n",
              "      <td>471</td>\n",
              "      <td>538</td>\n",
              "      <td>47</td>\n",
              "      <td>66</td>\n",
              "      <td>325</td>\n",
              "      <td>438</td>\n",
              "      <td>Anwar Arudin</td>\n",
              "      <td>28</td>\n",
              "      <td>11</td>\n",
              "      <td>5</td>\n",
              "    </tr>\n",
              "    <tr>\n",
              "      <th>1901</th>\n",
              "      <td>38</td>\n",
              "      <td>412</td>\n",
              "      <td>239</td>\n",
              "      <td>360</td>\n",
              "      <td>440</td>\n",
              "      <td>291</td>\n",
              "      <td>399</td>\n",
              "      <td>172</td>\n",
              "      <td>374</td>\n",
              "      <td>287</td>\n",
              "      <td>SP Khakurel</td>\n",
              "      <td>28</td>\n",
              "      <td>11</td>\n",
              "      <td>5</td>\n",
              "    </tr>\n",
              "    <tr>\n",
              "      <th>1902</th>\n",
              "      <td>265</td>\n",
              "      <td>451</td>\n",
              "      <td>380</td>\n",
              "      <td>375</td>\n",
              "      <td>175</td>\n",
              "      <td>362</td>\n",
              "      <td>566</td>\n",
              "      <td>570</td>\n",
              "      <td>159</td>\n",
              "      <td>352</td>\n",
              "      <td>Amjad Ali</td>\n",
              "      <td>28</td>\n",
              "      <td>11</td>\n",
              "      <td>5</td>\n",
              "    </tr>\n",
              "    <tr>\n",
              "      <th>1903</th>\n",
              "      <td>41</td>\n",
              "      <td>432</td>\n",
              "      <td>47</td>\n",
              "      <td>282</td>\n",
              "      <td>434</td>\n",
              "      <td>290</td>\n",
              "      <td>579</td>\n",
              "      <td>400</td>\n",
              "      <td>533</td>\n",
              "      <td>208</td>\n",
              "      <td>SP Khakurel</td>\n",
              "      <td>57</td>\n",
              "      <td>11</td>\n",
              "      <td>8</td>\n",
              "    </tr>\n",
              "    <tr>\n",
              "      <th>1904</th>\n",
              "      <td>372</td>\n",
              "      <td>470</td>\n",
              "      <td>238</td>\n",
              "      <td>410</td>\n",
              "      <td>43</td>\n",
              "      <td>44</td>\n",
              "      <td>47</td>\n",
              "      <td>577</td>\n",
              "      <td>68</td>\n",
              "      <td>438</td>\n",
              "      <td>Irfan Ahmed</td>\n",
              "      <td>57</td>\n",
              "      <td>11</td>\n",
              "      <td>8</td>\n",
              "    </tr>\n",
              "  </tbody>\n",
              "</table>\n",
              "<p>1905 rows × 14 columns</p>\n",
              "</div>"
            ],
            "text/plain": [
              "      Players_1  Players_2  Players_3  ...  Team1  Season  Venue\n",
              "0           137        428        192  ...     42      11    210\n",
              "1           372        470         52  ...     32      11     91\n",
              "2           137        463        338  ...     57      11      8\n",
              "3           264         42         47  ...     57      11      8\n",
              "4           265        451        166  ...     73      11     93\n",
              "...         ...        ...        ...  ...    ...     ...    ...\n",
              "1900        372        470         52  ...     28      11      5\n",
              "1901         38        412        239  ...     28      11      5\n",
              "1902        265        451        380  ...     28      11      5\n",
              "1903         41        432         47  ...     57      11      8\n",
              "1904        372        470        238  ...     57      11      8\n",
              "\n",
              "[1905 rows x 14 columns]"
            ]
          },
          "metadata": {
            "tags": []
          },
          "execution_count": 482
        }
      ]
    },
    {
      "cell_type": "code",
      "metadata": {
        "colab": {
          "base_uri": "https://localhost:8080/",
          "height": 0
        },
        "id": "W8IrigD2zB8j",
        "outputId": "b73cc32d-007e-4952-984c-fc1b3c381f2b"
      },
      "source": [
        "clean_P11=P11.groupby('Players_12').filter(lambda b: len(b)>12)\n",
        "clean_P11.shape"
      ],
      "execution_count": 483,
      "outputs": [
        {
          "output_type": "execute_result",
          "data": {
            "text/plain": [
              "(935, 14)"
            ]
          },
          "metadata": {
            "tags": []
          },
          "execution_count": 483
        }
      ]
    },
    {
      "cell_type": "code",
      "metadata": {
        "id": "LS1VbxwK6FzF"
      },
      "source": [
        "from sklearn.model_selection import train_test_split\n",
        "Y=clean_P11.pop('Players_12')\n",
        "X=clean_P11\n",
        "X_train,X_test,y_train,y_test = train_test_split(X,Y,test_size=0.20,random_state=2)"
      ],
      "execution_count": 484,
      "outputs": []
    },
    {
      "cell_type": "code",
      "metadata": {
        "id": "dwBEUGxv6KMf"
      },
      "source": [
        "from sklearn.tree import DecisionTreeClassifier\n",
        "classifier = DecisionTreeClassifier()\n",
        "classifier = classifier.fit(X_train,y_train)\n",
        "y_pred_11 = classifier.predict(X_test)"
      ],
      "execution_count": 485,
      "outputs": []
    },
    {
      "cell_type": "code",
      "metadata": {
        "colab": {
          "base_uri": "https://localhost:8080/",
          "height": 0
        },
        "id": "X8CN-dJ16KIk",
        "outputId": "9511061d-2ca1-4818-cbda-1ded56a51055"
      },
      "source": [
        "accuracy11=round(metrics.accuracy_score(y_test, y_pred_11)*100,0)\n",
        "acc_list.append(accuracy11)\n",
        "print(\"Accuracy of the model:\", accuracy11)"
      ],
      "execution_count": 487,
      "outputs": [
        {
          "output_type": "stream",
          "text": [
            "Accuracy of the model: 16.0\n"
          ],
          "name": "stdout"
        }
      ]
    },
    {
      "cell_type": "markdown",
      "metadata": {
        "id": "rQypC7T38UYF"
      },
      "source": [
        "For predicting Player 11, I have also used the value which was predicted in player 1, Player2,Player3, Player4, Player5,Player6,Player7,Player8,Player9,Player10.\n",
        "Also, Predicting Player 11 Who have played with AM Rahane, Murili Vijay,AT Rayudu,V Kohli,SK Raina,RV Uthappa, SR Patel,Mashrafe Murtaza,B Kumar,Harbhajan Singh in India in Wankhede Stadium in 2019 Encoded Values for Input variables are:\n",
        "\n",
        "1. Player 1(AM Rahane)=23(Predicted Value)\n",
        "2. Player 2(M Vijay)=121(Predicted Value)\n",
        "3. Player 3(AT Rayudu)=42(Predicted Value)\n",
        "4. Player 4(V Kohli)=406(Predicted Value)\n",
        "5. Player 5(SK Raina)=408(Predicted Value) \n",
        "6. Player 6(RV Uthappa)=400(Predicted Value)\n",
        "7. Player 7(SR Patel)=543(Predicted Value)\n",
        "8. Player 8(Mashrafe Mortaza)=380(Predicted Value) \n",
        "9. Player 9(B Kumar)=276(Predicted Value) \n",
        "10. Player 10(Harbhajan Singh)=392(Predicted Value) \n",
        "11. India encoding: 27\n",
        "12. 2019:14\n",
        "13. Wankhede 214"
      ]
    },
    {
      "cell_type": "code",
      "metadata": {
        "colab": {
          "base_uri": "https://localhost:8080/",
          "height": 0
        },
        "id": "dxaILkIr6KEV",
        "outputId": "0bff6ab8-72d5-4825-b66c-110861d077a4"
      },
      "source": [
        "classifier.predict([[23,121,42,406,408,400,543,380,276,392,27,14,214]])"
      ],
      "execution_count": 503,
      "outputs": [
        {
          "output_type": "execute_result",
          "data": {
            "text/plain": [
              "array(['HM Amla'], dtype=object)"
            ]
          },
          "metadata": {
            "tags": []
          },
          "execution_count": 503
        }
      ]
    },
    {
      "cell_type": "markdown",
      "metadata": {
        "id": "HiLcPPt3Dc6i"
      },
      "source": [
        "**PLAYER 11= HM Amla**"
      ]
    },
    {
      "cell_type": "markdown",
      "metadata": {
        "id": "5RXorR9vDiVO"
      },
      "source": [
        "## **Predicted Team 11**"
      ]
    },
    {
      "cell_type": "code",
      "metadata": {
        "colab": {
          "base_uri": "https://localhost:8080/",
          "height": 388
        },
        "id": "0xjhQJYu8yau",
        "outputId": "6c791c6a-153f-47a6-cb78-889f3445f3c0"
      },
      "source": [
        "# Storing all the predicted names into a dataframe. \n",
        "import pandas as pd\n",
        "Team11= {'Name': ['AM Rahane', 'Murili Vijay','AT Rayudu','V Kohli','SK Raina','RV Uthappa','SR Patel','Mashrafe Murtaza','B Kumar','Harbhajan Singh','HM Amla'], 'Accuracy': acc_list}\n",
        "Team= pd.DataFrame(Team11)  \n",
        "Team"
      ],
      "execution_count": 509,
      "outputs": [
        {
          "output_type": "execute_result",
          "data": {
            "text/html": [
              "<div>\n",
              "<style scoped>\n",
              "    .dataframe tbody tr th:only-of-type {\n",
              "        vertical-align: middle;\n",
              "    }\n",
              "\n",
              "    .dataframe tbody tr th {\n",
              "        vertical-align: top;\n",
              "    }\n",
              "\n",
              "    .dataframe thead th {\n",
              "        text-align: right;\n",
              "    }\n",
              "</style>\n",
              "<table border=\"1\" class=\"dataframe\">\n",
              "  <thead>\n",
              "    <tr style=\"text-align: right;\">\n",
              "      <th></th>\n",
              "      <th>Name</th>\n",
              "      <th>Accuracy</th>\n",
              "    </tr>\n",
              "  </thead>\n",
              "  <tbody>\n",
              "    <tr>\n",
              "      <th>0</th>\n",
              "      <td>AM Rahane</td>\n",
              "      <td>57.0</td>\n",
              "    </tr>\n",
              "    <tr>\n",
              "      <th>1</th>\n",
              "      <td>Murili Vijay</td>\n",
              "      <td>52.0</td>\n",
              "    </tr>\n",
              "    <tr>\n",
              "      <th>2</th>\n",
              "      <td>AT Rayudu</td>\n",
              "      <td>52.0</td>\n",
              "    </tr>\n",
              "    <tr>\n",
              "      <th>3</th>\n",
              "      <td>V Kohli</td>\n",
              "      <td>49.0</td>\n",
              "    </tr>\n",
              "    <tr>\n",
              "      <th>4</th>\n",
              "      <td>SK Raina</td>\n",
              "      <td>40.0</td>\n",
              "    </tr>\n",
              "    <tr>\n",
              "      <th>5</th>\n",
              "      <td>RV Uthappa</td>\n",
              "      <td>44.0</td>\n",
              "    </tr>\n",
              "    <tr>\n",
              "      <th>6</th>\n",
              "      <td>SR Patel</td>\n",
              "      <td>36.0</td>\n",
              "    </tr>\n",
              "    <tr>\n",
              "      <th>7</th>\n",
              "      <td>Mashrafe Murtaza</td>\n",
              "      <td>33.0</td>\n",
              "    </tr>\n",
              "    <tr>\n",
              "      <th>8</th>\n",
              "      <td>B Kumar</td>\n",
              "      <td>35.0</td>\n",
              "    </tr>\n",
              "    <tr>\n",
              "      <th>9</th>\n",
              "      <td>Harbhajan Singh</td>\n",
              "      <td>33.0</td>\n",
              "    </tr>\n",
              "    <tr>\n",
              "      <th>10</th>\n",
              "      <td>HM Amla</td>\n",
              "      <td>16.0</td>\n",
              "    </tr>\n",
              "  </tbody>\n",
              "</table>\n",
              "</div>"
            ],
            "text/plain": [
              "                Name  Accuracy\n",
              "0          AM Rahane      57.0\n",
              "1       Murili Vijay      52.0\n",
              "2          AT Rayudu      52.0\n",
              "3            V Kohli      49.0\n",
              "4           SK Raina      40.0\n",
              "5         RV Uthappa      44.0\n",
              "6           SR Patel      36.0\n",
              "7   Mashrafe Murtaza      33.0\n",
              "8            B Kumar      35.0\n",
              "9    Harbhajan Singh      33.0\n",
              "10           HM Amla      16.0"
            ]
          },
          "metadata": {
            "tags": []
          },
          "execution_count": 509
        }
      ]
    },
    {
      "cell_type": "code",
      "metadata": {
        "colab": {
          "base_uri": "https://localhost:8080/",
          "height": 0
        },
        "id": "MneATTSX90YY",
        "outputId": "3b68aa15-904a-446a-fb8c-c672fa1d4a65"
      },
      "source": [
        "print(\"Average accuracy of the Predicted Team is: \",round(sum(acc_list)/11,0),'%')"
      ],
      "execution_count": 513,
      "outputs": [
        {
          "output_type": "stream",
          "text": [
            "Average accuracy of the Predicted Team is:  41.0 %\n"
          ],
          "name": "stdout"
        }
      ]
    },
    {
      "cell_type": "code",
      "metadata": {
        "id": "3LisIeim5DAa"
      },
      "source": [
        "# THIS CODE IS A ROUGH CODE FOR CHECKING THE ENCODED VALUE OF EVERY PREDICTED NAME OF THE PLAYER IN ORDER TO USE THEM FOR OTHER PREDICTIONS\n",
        "\n",
        "\n",
        "# from sklearn import preprocessing\n",
        "# from sklearn.preprocessing import LabelEncoder\n",
        "# extra = match_merged[['Players_10','Players_3','Team1','Season','Venue']].copy()\n",
        "# label_encoder = preprocessing.LabelEncoder()\n",
        "# extra['Team_1_encode']= label_encoder.fit_transform(extra['Team1'])\n",
        "# extra['Players_4_encode']= label_encoder.fit_transform(extra['Players_10'])\n",
        "# extra['Season_en']= label_encoder.fit_transform(extra['Season'])\n",
        "# extra['Venue_en']= label_encoder.fit_transform(extra['Venue'])\n",
        "# extra.head()"
      ],
      "execution_count": 505,
      "outputs": []
    },
    {
      "cell_type": "code",
      "metadata": {
        "id": "2CioarNiJZdr"
      },
      "source": [
        "# extra[extra['Players_10']=='Harbhajan Singh']"
      ],
      "execution_count": 504,
      "outputs": []
    },
    {
      "cell_type": "code",
      "metadata": {
        "id": "Kii9D4WpJvZO"
      },
      "source": [
        ""
      ],
      "execution_count": null,
      "outputs": []
    }
  ]
}